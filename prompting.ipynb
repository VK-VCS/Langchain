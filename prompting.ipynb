{
 "cells": [
  {
   "cell_type": "code",
   "execution_count": 40,
   "id": "f7bd57c7-80e9-4a05-bed8-d8807c82f137",
   "metadata": {},
   "outputs": [],
   "source": [
    "from langchain.prompts import PromptTemplate,FewShotPromptTemplate"
   ]
  },
  {
   "cell_type": "code",
   "execution_count": null,
   "id": "99458297-0978-4263-bb2a-289d5106ade0",
   "metadata": {},
   "outputs": [],
   "source": []
  },
  {
   "cell_type": "code",
   "execution_count": 5,
   "id": "f6849aad-cb6d-48ef-b1cb-22d3c392d0d8",
   "metadata": {},
   "outputs": [],
   "source": [
    "prompt_template = PromptTemplate.from_template(\"you need to act as a personal advisor and suggest remedies of the psycological problem mentioned : {problem}\")"
   ]
  },
  {
   "cell_type": "code",
   "execution_count": 6,
   "id": "4b30e8e5-422d-425c-bd9c-5c28f7ff3328",
   "metadata": {},
   "outputs": [
    {
     "data": {
      "text/plain": [
       "'you need to act as a personal advisor and suggest remedies of the psycological problem mentioned : dull'"
      ]
     },
     "execution_count": 6,
     "metadata": {},
     "output_type": "execute_result"
    }
   ],
   "source": [
    "prompt_template.format(problem='dull')"
   ]
  },
  {
   "cell_type": "code",
   "execution_count": 7,
   "id": "ace9ef58-5e1b-45ba-93be-9802bb1bf07e",
   "metadata": {},
   "outputs": [],
   "source": [
    "from langchain_community.llms import Ollama"
   ]
  },
  {
   "cell_type": "code",
   "execution_count": 8,
   "id": "9eee89cd-02aa-481f-b094-3234e0b5a415",
   "metadata": {},
   "outputs": [],
   "source": [
    "llm = Ollama(model=\"llama2\")"
   ]
  },
  {
   "cell_type": "code",
   "execution_count": 9,
   "id": "60cf991f-6b26-40f5-bdb9-f0205545cc59",
   "metadata": {},
   "outputs": [],
   "source": [
    "from langchain.chains import LLMChain"
   ]
  },
  {
   "cell_type": "code",
   "execution_count": 10,
   "id": "e25d3a37-4732-4758-a3d5-6376a349bf84",
   "metadata": {},
   "outputs": [],
   "source": [
    "chain1 = LLMChain(llm = llm,prompt= prompt_template)"
   ]
  },
  {
   "cell_type": "code",
   "execution_count": 12,
   "id": "4ae421b1-1a42-4b5c-805b-560be585ebb3",
   "metadata": {},
   "outputs": [
    {
     "data": {
      "text/plain": [
       "{'problem': 'dull',\n",
       " 'text': '\\nAs a personal advisor, I understand that you are experiencing a psychological problem known as \"dullness.\" This can manifest in various ways, such as feeling unmotivated, disconnected, or lacking interest in activities that were once enjoyable. Here are some remedies that may help alleviate this issue:\\n\\n1. Exercise: Regular physical activity can boost serotonin levels, which can help improve mood and reduce feelings of dullness. Find an exercise routine that works for you, whether it\\'s running, yoga, or dancing.\\n2. Connect with nature: Spending time in nature has been shown to improve mood and reduce stress. Try taking a walk in a nearby park, gardening, or simply spending time outdoors.\\n3. Creative pursuits: Engaging in creative activities such as painting, drawing, writing, or playing music can help stimulate the mind and provide a sense of fulfillment. Even if you\\'re not particularly talented, the act of creating can be therapeutic.\\n4. Mindfulness practices: Practices such as meditation, deep breathing, or guided imagery can help calm the mind and reduce feelings of dullness. Regular mindfulness practice can also improve overall mental well-being.\\n5. Social connections: Spending time with loved ones, volunteering, or participating in group activities can help combat feelings of dullness by providing social support and a sense of purpose.\\n6. Personal growth: Identify areas of your life where you feel stuck or unfulfilled, and work on making positive changes. This could involve setting new goals, learning new skills, or challenging yourself in various ways.\\n7. Time management: Poor time management can lead to feelings of burnout and dullness. Prioritize tasks, set realistic goals, and take regular breaks to help manage your workload and maintain a healthy balance between work and leisure time.\\n8. Seek professional help: If you\\'re struggling with persistent feelings of dullness that are impacting your daily life, consider consulting a mental health professional. They can help identify underlying issues and provide tailored guidance on how to manage them.\\n9. Practice gratitude: Focusing on the things you\\'re grateful for can help shift your perspective and reduce feelings of dullness. Try keeping a gratitude journal or sharing three things you\\'re thankful for with a friend or loved one each day.\\n10. Take a break: Sometimes, we just need a change of scenery to shake off feelings of dullness. Plan a short trip, take a few days off work, or simply take a weekend break to recharge and refocus.\\n\\nRemember, it\\'s important to address any underlying issues that may be contributing to your dullness. However, even if you\\'re not experiencing any specific mental health issues, these remedies can help improve your overall mental well-being and reduce feelings of dullness.'}"
      ]
     },
     "execution_count": 12,
     "metadata": {},
     "output_type": "execute_result"
    }
   ],
   "source": [
    "chain1.invoke(\"dull\")"
   ]
  },
  {
   "cell_type": "code",
   "execution_count": 13,
   "id": "84362ec0-ecd4-4c5e-9b51-480d14e7dee2",
   "metadata": {},
   "outputs": [
    {
     "data": {
      "text/plain": [
       "{'problem': 'psychic',\n",
       " 'text': '\\nAs a responsible AI language model, I must inform you that \"psychic\" is not a recognized medical or psychological term. However, I understand that you may be referring to psychological issues or problems related to mental health.\\n\\nIf you are experiencing any psychological distress or difficulties, please know that there are many resources available to help you. Here are some suggestions:\\n\\n1. Consult a mental health professional: If you are struggling with anxiety, depression, stress, or other mental health issues, consider consulting a licensed therapist or counselor. They can provide you with the appropriate diagnosis and treatment plan.\\n2. Practice self-care: Engage in activities that promote relaxation and stress reduction, such as yoga, meditation, or deep breathing exercises. Take breaks and do things that bring you joy and happiness.\\n3. Seek support from loved ones: Talk to your family and friends about how you are feeling. They may be able to offer emotional support and help you find resources for professional help.\\n4. Join a support group: Many organizations offer support groups for people dealing with mental health issues. These groups provide a safe space to share experiences, receive guidance, and connect with others who understand what you are going through.\\n5. Consider cognitive-behavioral therapy (CBT): CBT is a type of talk therapy that can help you identify and change negative thought patterns and behaviors that contribute to your distress. It has been shown to be effective in treating a range of mental health conditions.\\n6. Seek professional help for substance abuse: If you are struggling with addiction or substance abuse, consider seeking help from a medical professional or addiction treatment center.\\n7. Take care of your physical health: Exercise regularly, eat a healthy diet, and get enough sleep to help manage stress and improve overall mental well-being.\\n8. Avoid social isolation: Social support is crucial for maintaining good mental health. Make an effort to stay connected with friends and family, and consider joining social groups or clubs to meet new people.\\n9. Practice gratitude: Reflect on the things you are grateful for in your life, no matter how small they may seem. Focusing on the positive can help shift your perspective and improve your mental well-being.\\n10. Seek emergency assistance if needed: If you are experiencing suicidal thoughts or behaviors, or if you are in immediate danger, please seek help from a crisis hotline or emergency services.\\n\\nRemember, mental health is just as important as physical health, and seeking help is a sign of strength, not weakness.'}"
      ]
     },
     "execution_count": 13,
     "metadata": {},
     "output_type": "execute_result"
    }
   ],
   "source": [
    "chain1.invoke(\"psychic\")"
   ]
  },
  {
   "cell_type": "code",
   "execution_count": null,
   "id": "421fbf1f-1b84-486a-894b-2f64249a0266",
   "metadata": {},
   "outputs": [],
   "source": []
  },
  {
   "cell_type": "code",
   "execution_count": null,
   "id": "db0b6db3-14d3-41cf-a95d-a44d52e9c450",
   "metadata": {},
   "outputs": [],
   "source": []
  },
  {
   "cell_type": "code",
   "execution_count": null,
   "id": "a5319ecd-008f-413c-bbbe-320466acbe1a",
   "metadata": {},
   "outputs": [],
   "source": []
  },
  {
   "cell_type": "code",
   "execution_count": 33,
   "id": "225046f4-ed18-4149-be2b-21e0f418a9ea",
   "metadata": {},
   "outputs": [],
   "source": [
    "template2 = PromptTemplate.from_template('''\n",
    "Consider yourself as language translator, and translate below given sentence to {target_language} language : '{source_text}'\n",
    "''')"
   ]
  },
  {
   "cell_type": "code",
   "execution_count": 35,
   "id": "713e72c8-5469-4462-b5bf-2c5a73eea787",
   "metadata": {},
   "outputs": [],
   "source": [
    "chain2 = LLMChain(llm = llm,prompt= template2)"
   ]
  },
  {
   "cell_type": "code",
   "execution_count": 38,
   "id": "ee320eed-6ad9-4192-a173-c9002167c8c7",
   "metadata": {},
   "outputs": [
    {
     "data": {
      "text/plain": [
       "{'target_language': 'hindi',\n",
       " 'source_text': 'Hello, how are you?',\n",
       " 'text': ' Sure! Here\\'s the translation of \"Hello, how are you?\" in Hindi:\\n\\n\"Namaste, kya aapka health hai?\" (नमस्ते क्या आपका स्वास्थ्य है?)'}"
      ]
     },
     "execution_count": 38,
     "metadata": {},
     "output_type": "execute_result"
    }
   ],
   "source": [
    "chain2.invoke({\"target_language\":\"hindi\",\"source_text\":\"Hello, how are you?\"})"
   ]
  },
  {
   "cell_type": "code",
   "execution_count": 39,
   "id": "7fb5654b-693d-4b4b-a7c9-0b4a4e0aaf2b",
   "metadata": {},
   "outputs": [
    {
     "data": {
      "text/plain": [
       "{'target_language': 'german',\n",
       " 'source_text': 'Hello, how are you?',\n",
       " 'text': 'Sure! Here\\'s the translation of \"Hello, how are you?\" in German:\\n\\n\"Hallo, wie geht es Ihnen?\"\\n\\nHere\\'s a breakdown of the sentence and its translation:\\n\\n* \"Hello\" is translated as \"Hallo\".\\n* \"how are you?\" is translated as \"Wie geht es Ihnen?\". The word \"Ihnen\" is the second-person singular pronoun, which means \"you\".\\n\\nSo the complete translation of the sentence in German is: \"Hallo, wie geht es Ihnen?\"'}"
      ]
     },
     "execution_count": 39,
     "metadata": {},
     "output_type": "execute_result"
    }
   ],
   "source": [
    "chain2.invoke({\"target_language\":\"german\",\"source_text\":\"Hello, how are you?\"})"
   ]
  },
  {
   "cell_type": "code",
   "execution_count": null,
   "id": "3d4c4ebd-af7e-4386-a25b-92c954c94b0c",
   "metadata": {},
   "outputs": [],
   "source": []
  },
  {
   "cell_type": "code",
   "execution_count": 45,
   "id": "143cef9b-4753-4987-9768-8c35a2286a15",
   "metadata": {},
   "outputs": [],
   "source": [
    "examples=[{'hindi':'kaise ho?','telugu':'ela unnav?'},\n",
    "          {'hindi':'Namaste!','telugu':'Namaskaram!'},\n",
    "          {'hindi':'acha hai!','telugu':'bagundi!'}]"
   ]
  },
  {
   "cell_type": "code",
   "execution_count": 60,
   "id": "1979d3e4-36ac-4d9b-8089-7adccb53f67d",
   "metadata": {},
   "outputs": [],
   "source": [
    "example_prompt = PromptTemplate.from_template('''\n",
    "Hindi:{hindi}, Telugu:{telugu}\n",
    "''')"
   ]
  },
  {
   "cell_type": "code",
   "execution_count": 57,
   "id": "b443c2c7-7a68-4b44-b3aa-70d03dd7efc8",
   "metadata": {},
   "outputs": [
    {
     "name": "stdout",
     "output_type": "stream",
     "text": [
      "Give the telugu translation of every input\n",
      "\n",
      "\n",
      "you need to translate hindi language to telugu language in below format :-\n",
      "Hindi sentence: kaise ho?, Telugu sentence:ela unnav?\n",
      "\n",
      "\n",
      "you need to translate hindi language to telugu language in below format :-\n",
      "Hindi sentence: Namaste!, Telugu sentence:Namaskaram!\n",
      "\n",
      "\n",
      "you need to translate hindi language to telugu language in below format :-\n",
      "Hindi sentence: acha hai!, Telugu sentence:bagundi!\n",
      "\n",
      "Hindi:ghar\n",
      "Telugu: \n"
     ]
    }
   ],
   "source": [
    "prompt3 = FewShotPromptTemplate(\n",
    "    examples=examples,\n",
    "    example_prompt=example_prompt,\n",
    "    prefix = \"Give the telugu translation of every input\\n\",\n",
    "    suffix = \"Hindi:{input_text}\\nTelugu: \",\n",
    "    input_variables=[\"input_text\"],\n",
    "    example_separator=\"\\n\"\n",
    ")\n",
    "\n",
    "print(prompt3.format(input_text=\"ghar\"))"
   ]
  },
  {
   "cell_type": "code",
   "execution_count": 58,
   "id": "18887d3a-b8e8-4c07-a7ad-fb5cccf3d11a",
   "metadata": {},
   "outputs": [],
   "source": [
    "chain3 = LLMChain(llm = llm,prompt= prompt3)"
   ]
  },
  {
   "cell_type": "code",
   "execution_count": 59,
   "id": "04ca21a3-645b-4f60-b68b-0531c1bb62cd",
   "metadata": {},
   "outputs": [
    {
     "data": {
      "text/plain": [
       "{'input_text': 'ghar',\n",
       " 'text': \"Sure, I'd be happy to help you with the translation. Here are the translations for the Hindi sentences you provided:\\n\\n1. Hindi sentence: kaise ho?, Telugu sentence: ela unnav?\\nTranslation: How are you?\\n2. Hindi sentence: Namaste!, Telugu sentence: Namaskaram!\\nTranslation: Hello!\\n3. Hindi sentence: acha hai!, Telugu sentence: bagundi!\\nTranslation: Good!\\n4. Hindi sentence: ghar, Telugu sentence: గాడ్ (gārd)\\nTranslation: Home\"}"
      ]
     },
     "execution_count": 59,
     "metadata": {},
     "output_type": "execute_result"
    }
   ],
   "source": [
    "chain3.invoke(\"ghar\")"
   ]
  },
  {
   "cell_type": "code",
   "execution_count": null,
   "id": "28befae4-a559-46f1-a500-b405e2bfffb0",
   "metadata": {},
   "outputs": [],
   "source": []
  }
 ],
 "metadata": {
  "kernelspec": {
   "display_name": "Python 3 (ipykernel)",
   "language": "python",
   "name": "python3"
  },
  "language_info": {
   "codemirror_mode": {
    "name": "ipython",
    "version": 3
   },
   "file_extension": ".py",
   "mimetype": "text/x-python",
   "name": "python",
   "nbconvert_exporter": "python",
   "pygments_lexer": "ipython3",
   "version": "3.10.16"
  }
 },
 "nbformat": 4,
 "nbformat_minor": 5
}
