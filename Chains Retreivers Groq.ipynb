{
 "cells": [
  {
   "cell_type": "code",
   "execution_count": 1,
   "id": "98ee5416-32c7-42b3-9733-c1a2b7b79769",
   "metadata": {},
   "outputs": [
    {
     "data": {
      "text/plain": [
       "True"
      ]
     },
     "execution_count": 1,
     "metadata": {},
     "output_type": "execute_result"
    }
   ],
   "source": [
    "import os\n",
    "from dotenv import load_dotenv\n",
    "load_dotenv()"
   ]
  },
  {
   "cell_type": "code",
   "execution_count": 2,
   "id": "2b9d643d-4301-4558-ab09-60776c1f9fcc",
   "metadata": {},
   "outputs": [],
   "source": [
    "import openai"
   ]
  },
  {
   "cell_type": "code",
   "execution_count": 4,
   "id": "0adad498-6b70-42df-bf6b-e984300fa83d",
   "metadata": {},
   "outputs": [],
   "source": [
    "openai.api_key = os.getenv(\"OPENAI_API_KEY\")\n",
    "groq_api_key = os.getenv(\"GROQ_API_KEY\")"
   ]
  },
  {
   "cell_type": "code",
   "execution_count": 6,
   "id": "49fe307e-0e8b-4726-9fcc-8b055f65dc10",
   "metadata": {},
   "outputs": [],
   "source": [
    "from langchain_openai import ChatOpenAI # paid model\n",
    "from langchain_groq import ChatGroq #open source using Groq which provide model and LPU resources in cloud"
   ]
  },
  {
   "cell_type": "code",
   "execution_count": 7,
   "id": "ea541734-7aa3-4cee-b127-0832667e8cdc",
   "metadata": {},
   "outputs": [],
   "source": [
    "model = ChatGroq(model=\"gemma2-9b-it\",groq_api_key=groq_api_key)"
   ]
  },
  {
   "cell_type": "code",
   "execution_count": 8,
   "id": "41af726e-ca58-45ce-9f0e-0786e2aa5509",
   "metadata": {},
   "outputs": [
    {
     "data": {
      "text/plain": [
       "ChatGroq(client=<groq.resources.chat.completions.Completions object at 0x0000022DA8902440>, async_client=<groq.resources.chat.completions.AsyncCompletions object at 0x0000022DA8903820>, model_name='gemma2-9b-it', model_kwargs={}, groq_api_key=SecretStr('**********'))"
      ]
     },
     "execution_count": 8,
     "metadata": {},
     "output_type": "execute_result"
    }
   ],
   "source": [
    "model"
   ]
  },
  {
   "cell_type": "code",
   "execution_count": 9,
   "id": "25330217-03a6-477f-88b3-eabba501a09c",
   "metadata": {},
   "outputs": [],
   "source": [
    "model2 = ChatOpenAI(model=\"gpt-4o\")"
   ]
  },
  {
   "cell_type": "code",
   "execution_count": 10,
   "id": "afe6426d-ba20-46c5-b49d-fc35c3cb199f",
   "metadata": {},
   "outputs": [
    {
     "data": {
      "text/plain": [
       "ChatOpenAI(client=<openai.resources.chat.completions.Completions object at 0x0000022DA8932080>, async_client=<openai.resources.chat.completions.AsyncCompletions object at 0x0000022DA89541C0>, root_client=<openai.OpenAI object at 0x0000022DA8930220>, root_async_client=<openai.AsyncOpenAI object at 0x0000022DA89320E0>, model_name='gpt-4o', model_kwargs={}, openai_api_key=SecretStr('**********'))"
      ]
     },
     "execution_count": 10,
     "metadata": {},
     "output_type": "execute_result"
    }
   ],
   "source": [
    "model2"
   ]
  },
  {
   "cell_type": "code",
   "execution_count": 12,
   "id": "5cac0054-4a99-4ae3-86d5-20fea3ae1c18",
   "metadata": {},
   "outputs": [],
   "source": [
    "from langchain_core.messages import HumanMessage,SystemMessage"
   ]
  },
  {
   "cell_type": "code",
   "execution_count": 14,
   "id": "727ef602-43e7-4410-81ac-6173e3fc8f04",
   "metadata": {},
   "outputs": [],
   "source": [
    "messages = [\n",
    "    SystemMessage(content=\"Translate the following from English to French\"),\n",
    "    HumanMessage(content=\"Hello How are you?\")\n",
    "]"
   ]
  },
  {
   "cell_type": "code",
   "execution_count": 15,
   "id": "547af115-7e6d-4f25-ad3c-f3f781ebcbb9",
   "metadata": {},
   "outputs": [
    {
     "data": {
      "text/plain": [
       "AIMessage(content='Here are a few ways to say \"Hello, how are you?\" in French:\\n\\n**Formal:**\\n\\n* **Bonjour, comment allez-vous ?** (This is the most polite and formal way to greet someone.)\\n\\n**Informal:**\\n\\n* **Salut, comment vas-tu ?** (This is a more casual greeting for someone you know well.)\\n* **Coucou, ça va ?** (This is a very informal greeting, often used with close friends.)\\n\\nYou can choose the option that best suits the context and your relationship with the person you\\'re greeting. \\n\\n\\nLet me know if you have any other phrases you\\'d like translated!\\n', additional_kwargs={}, response_metadata={'token_usage': {'completion_tokens': 138, 'prompt_tokens': 21, 'total_tokens': 159, 'completion_time': 0.250909091, 'prompt_time': 0.000936588, 'queue_time': 0.035127488, 'total_time': 0.251845679}, 'model_name': 'gemma2-9b-it', 'system_fingerprint': 'fp_10c08bf97d', 'finish_reason': 'stop', 'logprobs': None}, id='run-c25e389f-0829-4047-b5c3-360b6131f3c9-0', usage_metadata={'input_tokens': 21, 'output_tokens': 138, 'total_tokens': 159})"
      ]
     },
     "execution_count": 15,
     "metadata": {},
     "output_type": "execute_result"
    }
   ],
   "source": [
    "model.invoke(messages)"
   ]
  },
  {
   "cell_type": "code",
   "execution_count": 16,
   "id": "ffc214a2-63fb-4e45-b792-44ef555e8a31",
   "metadata": {},
   "outputs": [
    {
     "data": {
      "text/plain": [
       "AIMessage(content='Bonjour, comment ça va ?', additional_kwargs={'refusal': None}, response_metadata={'token_usage': {'completion_tokens': 7, 'prompt_tokens': 23, 'total_tokens': 30, 'completion_tokens_details': {'accepted_prediction_tokens': 0, 'audio_tokens': 0, 'reasoning_tokens': 0, 'rejected_prediction_tokens': 0}, 'prompt_tokens_details': {'audio_tokens': 0, 'cached_tokens': 0}}, 'model_name': 'gpt-4o-2024-08-06', 'system_fingerprint': 'fp_523b9b6e5f', 'finish_reason': 'stop', 'logprobs': None}, id='run-bd244aec-fc50-41bb-9f1f-ed09d01f3a08-0', usage_metadata={'input_tokens': 23, 'output_tokens': 7, 'total_tokens': 30, 'input_token_details': {'audio': 0, 'cache_read': 0}, 'output_token_details': {'audio': 0, 'reasoning': 0}})"
      ]
     },
     "execution_count": 16,
     "metadata": {},
     "output_type": "execute_result"
    }
   ],
   "source": [
    "model2.invoke(messages)"
   ]
  },
  {
   "cell_type": "code",
   "execution_count": 17,
   "id": "b6042ab8-c630-450a-b473-f0739e1fafde",
   "metadata": {},
   "outputs": [],
   "source": [
    "res = model.invoke(messages)"
   ]
  },
  {
   "cell_type": "code",
   "execution_count": 18,
   "id": "8ab53943-302e-43a5-8258-922e37af47ea",
   "metadata": {},
   "outputs": [
    {
     "data": {
      "text/plain": [
       "AIMessage(content='Hello: Bonjour\\n\\nHow are you?: Comment allez-vous? \\n\\n\\nSo, together it would be:  Bonjour, comment allez-vous? \\n\\n', additional_kwargs={}, response_metadata={'token_usage': {'completion_tokens': 35, 'prompt_tokens': 21, 'total_tokens': 56, 'completion_time': 0.063636364, 'prompt_time': 0.00016916, 'queue_time': 0.018590826999999997, 'total_time': 0.063805524}, 'model_name': 'gemma2-9b-it', 'system_fingerprint': 'fp_10c08bf97d', 'finish_reason': 'stop', 'logprobs': None}, id='run-6b1dec74-160a-4ce3-88f5-a3e479b7fa9d-0', usage_metadata={'input_tokens': 21, 'output_tokens': 35, 'total_tokens': 56})"
      ]
     },
     "execution_count": 18,
     "metadata": {},
     "output_type": "execute_result"
    }
   ],
   "source": [
    "res"
   ]
  },
  {
   "cell_type": "code",
   "execution_count": 19,
   "id": "1bed3111-27d9-4a4f-8d02-df944735af4c",
   "metadata": {},
   "outputs": [],
   "source": [
    "from langchain_core.output_parsers import StrOutputParser"
   ]
  },
  {
   "cell_type": "code",
   "execution_count": 21,
   "id": "60538719-82ad-4f4d-93bc-a13d0c8fd468",
   "metadata": {},
   "outputs": [
    {
     "data": {
      "text/plain": [
       "'Hello: Bonjour\\n\\nHow are you?: Comment allez-vous? \\n\\n\\nSo, together it would be:  Bonjour, comment allez-vous? \\n\\n'"
      ]
     },
     "execution_count": 21,
     "metadata": {},
     "output_type": "execute_result"
    }
   ],
   "source": [
    "parser = StrOutputParser() # used to extract content from result\n",
    "parser.invoke(res)"
   ]
  },
  {
   "cell_type": "code",
   "execution_count": 22,
   "id": "b31b46bb-4aa3-4dbd-b105-e9712d542146",
   "metadata": {},
   "outputs": [
    {
     "data": {
      "text/plain": [
       "'Here are a few ways to say \"Hello, how are you?\" in French:\\n\\n* **Bonjour, comment allez-vous ?** (Formal)\\n* **Salut, comment vas-tu ?** (Informal, to someone you know well)\\n* **Coucou, ça va ?** (Very informal, to someone you\\'re close to)\\n\\n\\nThe best option depends on the context and your relationship with the person you\\'re speaking to.\\n'"
      ]
     },
     "execution_count": 22,
     "metadata": {},
     "output_type": "execute_result"
    }
   ],
   "source": [
    "### using LCEL - chain components\n",
    "\n",
    "chain = model|parser\n",
    "chain.invoke(messages)"
   ]
  },
  {
   "cell_type": "code",
   "execution_count": 23,
   "id": "220e7e49-bdaf-4d03-9ac0-e46adc1a523d",
   "metadata": {},
   "outputs": [],
   "source": [
    "## instead of SystemMessage,HumanMessage everytime , we can use prompt templates, this is efficient way"
   ]
  },
  {
   "cell_type": "code",
   "execution_count": 24,
   "id": "10efbb58-20c8-4963-9bda-55bb99cf366c",
   "metadata": {},
   "outputs": [],
   "source": [
    "from langchain_core.prompts import ChatPromptTemplate"
   ]
  },
  {
   "cell_type": "code",
   "execution_count": 27,
   "id": "6c60b809-9f53-4486-98b1-417cd4c65a65",
   "metadata": {},
   "outputs": [],
   "source": [
    "prompt = ChatPromptTemplate.from_messages(\n",
    "[(\"system\",\"Translate the following in to {language}:\"),(\"user\",\"{text}\")]\n",
    ")"
   ]
  },
  {
   "cell_type": "code",
   "execution_count": 29,
   "id": "3a6e8096-e5f0-4c30-8ad1-c734ee1fe3ea",
   "metadata": {},
   "outputs": [],
   "source": [
    "res = prompt.invoke({\"language\":\"French\",\"text\":\"Hello\"})"
   ]
  },
  {
   "cell_type": "code",
   "execution_count": 30,
   "id": "cc0f4ad5-84ee-4801-a3a1-4fb06a39343c",
   "metadata": {},
   "outputs": [
    {
     "data": {
      "text/plain": [
       "[SystemMessage(content='Translate the following in to French:', additional_kwargs={}, response_metadata={}),\n",
       " HumanMessage(content='Hello', additional_kwargs={}, response_metadata={})]"
      ]
     },
     "execution_count": 30,
     "metadata": {},
     "output_type": "execute_result"
    }
   ],
   "source": [
    "res.to_messages()"
   ]
  },
  {
   "cell_type": "code",
   "execution_count": 31,
   "id": "6bc021f7-df22-4281-b4c3-19252a16d4b3",
   "metadata": {},
   "outputs": [
    {
     "data": {
      "text/plain": [
       "'Bonjour \\n'"
      ]
     },
     "execution_count": 31,
     "metadata": {},
     "output_type": "execute_result"
    }
   ],
   "source": [
    "chain = prompt|model|parser\n",
    "chain.invoke({\"language\":\"French\",\"text\":\"Hello\"})"
   ]
  },
  {
   "cell_type": "code",
   "execution_count": null,
   "id": "14537230-b354-4e17-bc33-431aeb073857",
   "metadata": {},
   "outputs": [],
   "source": []
  }
 ],
 "metadata": {
  "kernelspec": {
   "display_name": "Python 3 (ipykernel)",
   "language": "python",
   "name": "python3"
  },
  "language_info": {
   "codemirror_mode": {
    "name": "ipython",
    "version": 3
   },
   "file_extension": ".py",
   "mimetype": "text/x-python",
   "name": "python",
   "nbconvert_exporter": "python",
   "pygments_lexer": "ipython3",
   "version": "3.10.16"
  }
 },
 "nbformat": 4,
 "nbformat_minor": 5
}
