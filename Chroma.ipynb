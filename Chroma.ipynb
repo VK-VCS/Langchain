{
 "cells": [
  {
   "cell_type": "code",
   "execution_count": 4,
   "id": "50653ba7-30ae-4549-9aa9-a47ccbcde5d0",
   "metadata": {},
   "outputs": [],
   "source": [
    "from langchain_chroma import Chroma"
   ]
  },
  {
   "cell_type": "code",
   "execution_count": 5,
   "id": "ae646087-6254-4258-a35e-18bbd15deb5e",
   "metadata": {},
   "outputs": [],
   "source": [
    "from langchain_community.document_loaders import TextLoader\n",
    "from langchain_ollama import OllamaEmbeddings\n",
    "from langchain_text_splitters import RecursiveCharacterTextSplitter"
   ]
  },
  {
   "cell_type": "code",
   "execution_count": 6,
   "id": "0cce7f11-19a8-4f49-8105-1c3810061322",
   "metadata": {},
   "outputs": [],
   "source": [
    "loader = TextLoader(\"Data Sources/speech.txt\")"
   ]
  },
  {
   "cell_type": "code",
   "execution_count": 7,
   "id": "07ade692-acdc-4526-b92b-46255149e48e",
   "metadata": {},
   "outputs": [],
   "source": [
    "documents = loader.load()"
   ]
  },
  {
   "cell_type": "code",
   "execution_count": 9,
   "id": "7cbb21b2-c6ce-42f2-90db-146d1cd77688",
   "metadata": {},
   "outputs": [],
   "source": [
    "text_splitter = RecursiveCharacterTextSplitter(chunk_size=250,chunk_overlap=10)\n",
    "docs = text_splitter.split_documents(documents)"
   ]
  },
  {
   "cell_type": "code",
   "execution_count": 11,
   "id": "eda75344-5e1c-4fce-827b-fcff57901b28",
   "metadata": {},
   "outputs": [
    {
     "data": {
      "text/plain": [
       "<langchain_chroma.vectorstores.Chroma at 0x1dd3fe39f90>"
      ]
     },
     "execution_count": 11,
     "metadata": {},
     "output_type": "execute_result"
    }
   ],
   "source": [
    "embeddings = OllamaEmbeddings(model=\"mxbai-embed-large\",)\n",
    "db = Chroma.from_documents(docs,embeddings)\n",
    "db"
   ]
  },
  {
   "cell_type": "code",
   "execution_count": 12,
   "id": "306a00e4-d421-4492-a57e-064dbc91a866",
   "metadata": {},
   "outputs": [],
   "source": [
    "query = \"what does the abdul kalam spoke about the nation?\""
   ]
  },
  {
   "cell_type": "code",
   "execution_count": 13,
   "id": "92bac633-563d-407d-882a-b2838444df34",
   "metadata": {},
   "outputs": [
    {
     "data": {
      "text/plain": [
       "[Document(id='5c3c7b9f-7b3b-4278-840e-0d1f4df58fd4', metadata={'source': 'Data Sources/speech.txt'}, page_content='Kalam spoke about his vision for India to become a developed nation, and how the country should stand up to the world. He also emphasized the importance of protecting the environment and leaving the planet in good condition for future generations.'),\n",
       " Document(id='5a625241-d9d8-4898-b38d-10dbc565601f', metadata={'source': 'Data Sources/speech.txt'}, page_content=\"Dr. A.P.J. Abdul Kalam gave many speeches on a variety of topics, including education, the environment, and India's development. Here are some examples of his speeches: [1, 2, 3]  \\n\\nAddress to students\"),\n",
       " Document(id='72b95d1f-b810-4333-ab81-b209d00af06a', metadata={'source': 'Data Sources/speech.txt'}, page_content='Speech on international affairs \\n\\nKalam spoke about the importance of international cooperation to address issues like poverty, unemployment, and disease. He also emphasized the need for a just world order based on respect for sovereignty.'),\n",
       " Document(id='450e7cff-0187-4979-b122-052f238a7cd0', metadata={'source': 'Data Sources/speech.txt'}, page_content='Kalam encouraged students to excel in their studies and become leaders in their chosen fields. He also emphasized the importance of having a strong moral compass and traditional values. [1]  \\n\\nVision for India')]"
      ]
     },
     "execution_count": 13,
     "metadata": {},
     "output_type": "execute_result"
    }
   ],
   "source": [
    "db.similarity_search(query)"
   ]
  },
  {
   "cell_type": "code",
   "execution_count": 15,
   "id": "75cd8524-bc92-40ae-933a-ef186799118e",
   "metadata": {},
   "outputs": [],
   "source": [
    "vect_db = Chroma.from_documents(docs,embeddings,persist_directory = \"chroma_db\")"
   ]
  },
  {
   "cell_type": "code",
   "execution_count": 17,
   "id": "5e9abef1-b2a2-43ab-9f6b-3fda6ab9ab97",
   "metadata": {},
   "outputs": [
    {
     "data": {
      "text/plain": [
       "[Document(id='2e9065d6-4c67-472f-a692-9d94ec45037c', metadata={'source': 'Data Sources/speech.txt'}, page_content='Kalam spoke about his vision for India to become a developed nation, and how the country should stand up to the world. He also emphasized the importance of protecting the environment and leaving the planet in good condition for future generations.'),\n",
       " Document(id='72adefe7-1d3c-4bcf-810c-2f7618a7b738', metadata={'source': 'Data Sources/speech.txt'}, page_content=\"Dr. A.P.J. Abdul Kalam gave many speeches on a variety of topics, including education, the environment, and India's development. Here are some examples of his speeches: [1, 2, 3]  \\n\\nAddress to students\"),\n",
       " Document(id='dfca9533-805a-496e-a538-844df3b84e9f', metadata={'source': 'Data Sources/speech.txt'}, page_content='Speech on international affairs \\n\\nKalam spoke about the importance of international cooperation to address issues like poverty, unemployment, and disease. He also emphasized the need for a just world order based on respect for sovereignty.'),\n",
       " Document(id='2f80085e-df7a-4272-b560-c7344cd28b23', metadata={'source': 'Data Sources/speech.txt'}, page_content='Kalam encouraged students to excel in their studies and become leaders in their chosen fields. He also emphasized the importance of having a strong moral compass and traditional values. [1]  \\n\\nVision for India')]"
      ]
     },
     "execution_count": 17,
     "metadata": {},
     "output_type": "execute_result"
    }
   ],
   "source": [
    "vect_db.similarity_search(query)"
   ]
  },
  {
   "cell_type": "code",
   "execution_count": 18,
   "id": "78364389-b7da-4891-aa94-9f4d4c5acc39",
   "metadata": {},
   "outputs": [
    {
     "data": {
      "text/plain": [
       "[(Document(id='2e9065d6-4c67-472f-a692-9d94ec45037c', metadata={'source': 'Data Sources/speech.txt'}, page_content='Kalam spoke about his vision for India to become a developed nation, and how the country should stand up to the world. He also emphasized the importance of protecting the environment and leaving the planet in good condition for future generations.'),\n",
       "  0.3737670629898988),\n",
       " (Document(id='72adefe7-1d3c-4bcf-810c-2f7618a7b738', metadata={'source': 'Data Sources/speech.txt'}, page_content=\"Dr. A.P.J. Abdul Kalam gave many speeches on a variety of topics, including education, the environment, and India's development. Here are some examples of his speeches: [1, 2, 3]  \\n\\nAddress to students\"),\n",
       "  0.43210676422225286),\n",
       " (Document(id='dfca9533-805a-496e-a538-844df3b84e9f', metadata={'source': 'Data Sources/speech.txt'}, page_content='Speech on international affairs \\n\\nKalam spoke about the importance of international cooperation to address issues like poverty, unemployment, and disease. He also emphasized the need for a just world order based on respect for sovereignty.'),\n",
       "  0.5183343370847454),\n",
       " (Document(id='2f80085e-df7a-4272-b560-c7344cd28b23', metadata={'source': 'Data Sources/speech.txt'}, page_content='Kalam encouraged students to excel in their studies and become leaders in their chosen fields. He also emphasized the importance of having a strong moral compass and traditional values. [1]  \\n\\nVision for India'),\n",
       "  0.5235709947926706)]"
      ]
     },
     "execution_count": 18,
     "metadata": {},
     "output_type": "execute_result"
    }
   ],
   "source": [
    "vect_db.similarity_search_with_score(query)"
   ]
  },
  {
   "cell_type": "code",
   "execution_count": 19,
   "id": "351bbdb5-d612-42c3-b4b7-a32d90246ef1",
   "metadata": {},
   "outputs": [],
   "source": [
    "retriever= vect_db.as_retriever()"
   ]
  },
  {
   "cell_type": "code",
   "execution_count": 20,
   "id": "4df7e87d-075b-4d22-8dd7-d41606fd7f47",
   "metadata": {},
   "outputs": [
    {
     "data": {
      "text/plain": [
       "[Document(id='2e9065d6-4c67-472f-a692-9d94ec45037c', metadata={'source': 'Data Sources/speech.txt'}, page_content='Kalam spoke about his vision for India to become a developed nation, and how the country should stand up to the world. He also emphasized the importance of protecting the environment and leaving the planet in good condition for future generations.'),\n",
       " Document(id='72adefe7-1d3c-4bcf-810c-2f7618a7b738', metadata={'source': 'Data Sources/speech.txt'}, page_content=\"Dr. A.P.J. Abdul Kalam gave many speeches on a variety of topics, including education, the environment, and India's development. Here are some examples of his speeches: [1, 2, 3]  \\n\\nAddress to students\"),\n",
       " Document(id='dfca9533-805a-496e-a538-844df3b84e9f', metadata={'source': 'Data Sources/speech.txt'}, page_content='Speech on international affairs \\n\\nKalam spoke about the importance of international cooperation to address issues like poverty, unemployment, and disease. He also emphasized the need for a just world order based on respect for sovereignty.'),\n",
       " Document(id='2f80085e-df7a-4272-b560-c7344cd28b23', metadata={'source': 'Data Sources/speech.txt'}, page_content='Kalam encouraged students to excel in their studies and become leaders in their chosen fields. He also emphasized the importance of having a strong moral compass and traditional values. [1]  \\n\\nVision for India')]"
      ]
     },
     "execution_count": 20,
     "metadata": {},
     "output_type": "execute_result"
    }
   ],
   "source": [
    "retriever.invoke(query)"
   ]
  },
  {
   "cell_type": "code",
   "execution_count": null,
   "id": "47805184-2a68-4938-9d2b-4405edeec6c4",
   "metadata": {},
   "outputs": [],
   "source": []
  }
 ],
 "metadata": {
  "kernelspec": {
   "display_name": "Python 3 (ipykernel)",
   "language": "python",
   "name": "python3"
  },
  "language_info": {
   "codemirror_mode": {
    "name": "ipython",
    "version": 3
   },
   "file_extension": ".py",
   "mimetype": "text/x-python",
   "name": "python",
   "nbconvert_exporter": "python",
   "pygments_lexer": "ipython3",
   "version": "3.10.16"
  }
 },
 "nbformat": 4,
 "nbformat_minor": 5
}
