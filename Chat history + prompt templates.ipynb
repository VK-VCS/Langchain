{
 "cells": [
  {
   "cell_type": "code",
   "execution_count": 2,
   "id": "231770d4-6885-4aca-bcd8-2ea9bd185fda",
   "metadata": {},
   "outputs": [
    {
     "data": {
      "text/plain": [
       "True"
      ]
     },
     "execution_count": 2,
     "metadata": {},
     "output_type": "execute_result"
    }
   ],
   "source": [
    "import os\n",
    "from dotenv import load_dotenv\n",
    "load_dotenv()"
   ]
  },
  {
   "cell_type": "code",
   "execution_count": 3,
   "id": "5741bf14-a48c-4500-9460-33709715afa3",
   "metadata": {},
   "outputs": [],
   "source": [
    "groq_api_key = os.getenv(\"GROQ_API_KEY\")"
   ]
  },
  {
   "cell_type": "code",
   "execution_count": 4,
   "id": "cda1ad9d-0347-4daf-b674-9a2f87539f66",
   "metadata": {},
   "outputs": [],
   "source": [
    "from langchain_groq import ChatGroq"
   ]
  },
  {
   "cell_type": "code",
   "execution_count": 5,
   "id": "e8c6db60-0546-4bbb-9c28-af6ffc40c9fe",
   "metadata": {},
   "outputs": [],
   "source": [
    "model = ChatGroq(model=\"mixtral-8x7b-32768\",groq_api_key=groq_api_key)"
   ]
  },
  {
   "cell_type": "code",
   "execution_count": 6,
   "id": "de91f8d4-b241-4db0-afdb-a0e696ca1233",
   "metadata": {},
   "outputs": [],
   "source": [
    "from langchain_core.messages import HumanMessage,SystemMessage,AIMessage"
   ]
  },
  {
   "cell_type": "code",
   "execution_count": 7,
   "id": "ef732601-ec70-417a-9bb8-0420a4da4b6f",
   "metadata": {},
   "outputs": [
    {
     "data": {
      "text/plain": [
       "AIMessage(content=\"Hello Vamsi, it's great to hear that you're interested in pursuing a career in AI research! AI is a rapidly growing field with a wide range of applications and opportunities. As a researcher, you will have the chance to contribute to the development of new technologies and theories that can have a significant impact on society.\\n\\nTo get started in AI research, I would recommend building a strong foundation in computer science and mathematics. You should have a good understanding of programming, data structures, algorithms, and linear algebra. Additionally, you may want to explore specific areas of AI such as machine learning, natural language processing, computer vision, or robotics.\\n\\nYou can also gain research experience by working on projects, participating in research internships, or joining research groups at your university. Attending conferences and workshops can also help you stay up-to-date with the latest developments in the field and network with other researchers.\\n\\nFinally, it's important to stay curious and keep learning. AI is a rapidly evolving field, and there is always something new to discover. Good luck in your research journey!\", additional_kwargs={}, response_metadata={'token_usage': {'completion_tokens': 234, 'prompt_tokens': 23, 'total_tokens': 257, 'completion_time': 0.362360262, 'prompt_time': 0.003988403, 'queue_time': 0.054934414, 'total_time': 0.366348665}, 'model_name': 'mixtral-8x7b-32768', 'system_fingerprint': 'fp_c5f20b5bb1', 'finish_reason': 'stop', 'logprobs': None}, id='run-d315cc66-296c-4874-83b8-5388344be760-0', usage_metadata={'input_tokens': 23, 'output_tokens': 234, 'total_tokens': 257})"
      ]
     },
     "execution_count": 7,
     "metadata": {},
     "output_type": "execute_result"
    }
   ],
   "source": [
    "model.invoke([HumanMessage(content=\"Hi , I am Vamsi aspiring Researcher in the field of AI\")])"
   ]
  },
  {
   "cell_type": "code",
   "execution_count": 8,
   "id": "f6c14f88-faca-4378-8698-782127a36b83",
   "metadata": {},
   "outputs": [
    {
     "data": {
      "text/plain": [
       "AIMessage(content=\"Hello! I'm sorry for the confusion in my previous response. I was responding based on the context of the conversation we were having earlier, where you introduced yourself as Vamsi and shared that you are an aspiring Researcher in the field of AI.\\n\\nJust to clarify, your name is Vamsi, and your aspiration is to become a Researcher in the field of AI.\\n\\nIf you have any further questions or need assistance, please let me know. I'm here to help!\", additional_kwargs={}, response_metadata={'token_usage': {'completion_tokens': 108, 'prompt_tokens': 179, 'total_tokens': 287, 'completion_time': 0.168774417, 'prompt_time': 0.034696135, 'queue_time': 0.020020658999999996, 'total_time': 0.203470552}, 'model_name': 'mixtral-8x7b-32768', 'system_fingerprint': 'fp_c5f20b5bb1', 'finish_reason': 'stop', 'logprobs': None}, id='run-c51e0d83-04c8-4dbf-8a5e-8ab633bf03c7-0', usage_metadata={'input_tokens': 179, 'output_tokens': 108, 'total_tokens': 287})"
      ]
     },
     "execution_count": 8,
     "metadata": {},
     "output_type": "execute_result"
    }
   ],
   "source": [
    "model.invoke([\n",
    "    HumanMessage(content=\"Hi , I am Vamsi aspiring Researcher in the field of AI\"),\n",
    "    AIMessage(content=\"Hi Vamsi,\\n\\nIt's great to meet you!  Aspiring researcher in AI is a fantastic field to be in. \\n\\nWhat areas of AI are you most interested in?  Do you have any specific research questions you're exploring?  \\n\\nI can't conduct research myself, but I can be a helpful resource. I can:\\n\\n* **Provide summaries of research papers**\\n* **Help you brainstorm ideas**\\n* **Explain complex AI concepts**\\n* **Offer different perspectives on your research questions**\\n\\nLet me know how I can help you on your research journey!\"),\n",
    "    HumanMessage(content=\"Hi , what's my name and aspiration?\")\n",
    "])"
   ]
  },
  {
   "cell_type": "markdown",
   "id": "7c0940f6-1422-4008-a425-bfe16d2661d7",
   "metadata": {},
   "source": [
    "# Mesage History"
   ]
  },
  {
   "cell_type": "code",
   "execution_count": 9,
   "id": "21244a35-a37b-4737-bf23-c0a3b0086600",
   "metadata": {},
   "outputs": [],
   "source": [
    "## a wrapper class used to store the conversation and loaded to chain as part of the input"
   ]
  },
  {
   "cell_type": "code",
   "execution_count": 10,
   "id": "15a642e9-a2fa-4fc5-b8db-517a47d28dba",
   "metadata": {},
   "outputs": [],
   "source": [
    "from langchain_community.chat_message_histories import ChatMessageHistory\n",
    "from langchain_core.chat_history import BaseChatMessageHistory\n",
    "from langchain_core.runnables.history import RunnableWithMessageHistory"
   ]
  },
  {
   "cell_type": "code",
   "execution_count": 11,
   "id": "94177584-0a95-477b-9314-9f4fdb45e399",
   "metadata": {},
   "outputs": [],
   "source": [
    "store={}\n",
    "def get_session_history(session_id:str)->BaseChatMessageHistory:\n",
    "    if session_id not in store:\n",
    "        store[session_id]=ChatMessageHistory()\n",
    "    return store[session_id]\n",
    "    "
   ]
  },
  {
   "cell_type": "code",
   "execution_count": 12,
   "id": "c74b933b-8025-4300-956a-6a87ac23c026",
   "metadata": {},
   "outputs": [],
   "source": [
    "config={\"configurable\":{\"session_id\":\"user_session1\"}}"
   ]
  },
  {
   "cell_type": "code",
   "execution_count": 13,
   "id": "a695780d-b44a-4156-a3b1-94c31b15dc3e",
   "metadata": {},
   "outputs": [],
   "source": [
    "with_message_history = RunnableWithMessageHistory(model,get_session_history)"
   ]
  },
  {
   "cell_type": "code",
   "execution_count": 14,
   "id": "9d013430-b5df-403c-a825-83cfd31af69c",
   "metadata": {},
   "outputs": [],
   "source": [
    "result =  with_message_history.invoke(\n",
    "    input = [HumanMessage(content=\"Hi , I am Vamsi aspiring Researcher in the field of AI\")],\n",
    "    config=config\n",
    ")"
   ]
  },
  {
   "cell_type": "code",
   "execution_count": 15,
   "id": "8ade9ce4-81b2-4b9d-8829-a575896cac4d",
   "metadata": {},
   "outputs": [
    {
     "data": {
      "text/plain": [
       "AIMessage(content=\"Hello Vamsi, it's great to hear that you are interested in pursuing a career in AI research! AI is a rapidly growing field with many exciting opportunities and challenges. As a researcher, you will have the chance to contribute to the development of new technologies and techniques that can have a significant impact on various industries and aspects of our lives.\\n\\nTo succeed as an AI researcher, it is important to have a strong foundation in mathematics and computer science, as well as a deep understanding of AI concepts and techniques. You should also be curious, creative, and passionate about learning and exploring new ideas.\\n\\nHere are some steps you can take to pursue a career in AI research:\\n\\n1. Build a strong foundation: Start by gaining a solid understanding of the fundamentals of AI, including machine learning, deep learning, natural language processing, computer vision, and robotics. You can do this by taking relevant courses, reading books and research papers, and participating in online forums and communities.\\n2. Gain practical experience: Apply your knowledge by working on real-world AI projects, either through internships, research assistantships, or independent projects. This will help you develop your skills and gain practical experience in designing, implementing, and testing AI systems.\\n3. Stay up-to-date: AI is a rapidly evolving field, so it is important to stay current with the latest research and developments. You can do this by reading research papers, attending conferences and workshops, and participating in online forums and communities.\\n4. Collaborate and network: Building relationships with other researchers and professionals in the field can help you learn from their experiences, gain new insights, and identify opportunities for collaboration. You can do this by attending conferences, joining research groups, and participating in online forums and communities.\\n5. Pursue advanced education: A PhD in AI or a related field can provide you with the advanced knowledge and skills needed to become a successful AI researcher. You can also consider pursuing a master's degree or a certificate program in AI to gain additional expertise.\\n\\nI wish you the best of luck in your pursuit of a career in AI research! If you have any questions or need further guidance, don't hesitate to ask.\", additional_kwargs={}, response_metadata={'token_usage': {'completion_tokens': 471, 'prompt_tokens': 23, 'total_tokens': 494, 'completion_time': 0.734208976, 'prompt_time': 0.002348388, 'queue_time': 0.019309011, 'total_time': 0.736557364}, 'model_name': 'mixtral-8x7b-32768', 'system_fingerprint': 'fp_c5f20b5bb1', 'finish_reason': 'stop', 'logprobs': None}, id='run-6bb40cc6-3c04-4238-a4f6-f2df534c2d8c-0', usage_metadata={'input_tokens': 23, 'output_tokens': 471, 'total_tokens': 494})"
      ]
     },
     "execution_count": 15,
     "metadata": {},
     "output_type": "execute_result"
    }
   ],
   "source": [
    "result"
   ]
  },
  {
   "cell_type": "code",
   "execution_count": 16,
   "id": "9fabf846-f67f-40a9-81d6-8c10f809ad98",
   "metadata": {},
   "outputs": [
    {
     "data": {
      "text/plain": [
       "\"Hello Vamsi, it's great to hear that you are interested in pursuing a career in AI research! AI is a rapidly growing field with many exciting opportunities and challenges. As a researcher, you will have the chance to contribute to the development of new technologies and techniques that can have a significant impact on various industries and aspects of our lives.\\n\\nTo succeed as an AI researcher, it is important to have a strong foundation in mathematics and computer science, as well as a deep understanding of AI concepts and techniques. You should also be curious, creative, and passionate about learning and exploring new ideas.\\n\\nHere are some steps you can take to pursue a career in AI research:\\n\\n1. Build a strong foundation: Start by gaining a solid understanding of the fundamentals of AI, including machine learning, deep learning, natural language processing, computer vision, and robotics. You can do this by taking relevant courses, reading books and research papers, and participating in online forums and communities.\\n2. Gain practical experience: Apply your knowledge by working on real-world AI projects, either through internships, research assistantships, or independent projects. This will help you develop your skills and gain practical experience in designing, implementing, and testing AI systems.\\n3. Stay up-to-date: AI is a rapidly evolving field, so it is important to stay current with the latest research and developments. You can do this by reading research papers, attending conferences and workshops, and participating in online forums and communities.\\n4. Collaborate and network: Building relationships with other researchers and professionals in the field can help you learn from their experiences, gain new insights, and identify opportunities for collaboration. You can do this by attending conferences, joining research groups, and participating in online forums and communities.\\n5. Pursue advanced education: A PhD in AI or a related field can provide you with the advanced knowledge and skills needed to become a successful AI researcher. You can also consider pursuing a master's degree or a certificate program in AI to gain additional expertise.\\n\\nI wish you the best of luck in your pursuit of a career in AI research! If you have any questions or need further guidance, don't hesitate to ask.\""
      ]
     },
     "execution_count": 16,
     "metadata": {},
     "output_type": "execute_result"
    }
   ],
   "source": [
    "result.content"
   ]
  },
  {
   "cell_type": "code",
   "execution_count": 17,
   "id": "94cec809-4fa1-43a1-be72-7b29e92a22a0",
   "metadata": {},
   "outputs": [],
   "source": [
    "resp =  with_message_history.invoke(\n",
    "    input = [HumanMessage(content=\"Hi , what is my name?\")],\n",
    "    config=config\n",
    ")"
   ]
  },
  {
   "cell_type": "code",
   "execution_count": 18,
   "id": "771403ba-0b1b-4a3a-96f3-6f820daa1e81",
   "metadata": {},
   "outputs": [
    {
     "data": {
      "text/plain": [
       "\"I apologize for the confusion earlier. Based on your previous message, your name is Vamsi. It's nice to meet you, Vamsi! How can I assist you today?\""
      ]
     },
     "execution_count": 18,
     "metadata": {},
     "output_type": "execute_result"
    }
   ],
   "source": [
    "resp.content"
   ]
  },
  {
   "cell_type": "code",
   "execution_count": 19,
   "id": "03a7800c-71f9-4045-862a-b75e98400a97",
   "metadata": {},
   "outputs": [],
   "source": [
    "config2={\"configurable\":{\"session_id\":\"user_session2\"}}"
   ]
  },
  {
   "cell_type": "code",
   "execution_count": 20,
   "id": "e8258647-14eb-4664-97ea-1df13a6486bb",
   "metadata": {},
   "outputs": [],
   "source": [
    "result =  with_message_history.invoke(\n",
    "    input = [HumanMessage(content=\"Hi , what is my name?\")],\n",
    "    config=config2\n",
    ")"
   ]
  },
  {
   "cell_type": "code",
   "execution_count": 21,
   "id": "83cee9d8-e042-477c-8337-b0e4268ad1ec",
   "metadata": {},
   "outputs": [
    {
     "data": {
      "text/plain": [
       "\"I'm afraid I cannot determine your name as I don't have access to User's personal data or information. You can tell me your name if you want to.\""
      ]
     },
     "execution_count": 21,
     "metadata": {},
     "output_type": "execute_result"
    }
   ],
   "source": [
    "result.content"
   ]
  },
  {
   "cell_type": "code",
   "execution_count": 22,
   "id": "4c8389ca-f40b-49b7-b8b1-812085762438",
   "metadata": {},
   "outputs": [],
   "source": [
    "result =  with_message_history.invoke(\n",
    "    input = [HumanMessage(content=\"Hey , my name is john\")],\n",
    "    config=config2\n",
    ")"
   ]
  },
  {
   "cell_type": "code",
   "execution_count": 23,
   "id": "073c979d-7f59-4113-9c79-3378911122db",
   "metadata": {},
   "outputs": [
    {
     "data": {
      "text/plain": [
       "\"Hello John, it's nice to meet you. How can I assist you today?\""
      ]
     },
     "execution_count": 23,
     "metadata": {},
     "output_type": "execute_result"
    }
   ],
   "source": [
    "result.content"
   ]
  },
  {
   "cell_type": "code",
   "execution_count": null,
   "id": "62e18fc9-d24e-4eb6-985d-24c6b3e0559b",
   "metadata": {},
   "outputs": [],
   "source": []
  },
  {
   "cell_type": "markdown",
   "id": "83bed3d1-48f2-48a2-b58a-7debb9c8ffb4",
   "metadata": {},
   "source": [
    "## Prompt Templates"
   ]
  },
  {
   "cell_type": "code",
   "execution_count": 24,
   "id": "1532840d-b79c-4dd4-938f-b64c1bf3ac44",
   "metadata": {},
   "outputs": [],
   "source": [
    "## prompt template converts raw user info in to AI, Human, System messages which LLM can understand"
   ]
  },
  {
   "cell_type": "code",
   "execution_count": 25,
   "id": "aa66b3b6-c105-40f6-bbd5-bfa92c6ca9d8",
   "metadata": {},
   "outputs": [],
   "source": [
    "from langchain_core.prompts import ChatPromptTemplate, MessagesPlaceholder"
   ]
  },
  {
   "cell_type": "code",
   "execution_count": 26,
   "id": "8c7c739e-37d0-472d-9586-736c179e48aa",
   "metadata": {},
   "outputs": [],
   "source": [
    "prompt = ChatPromptTemplate.from_messages(\n",
    "    [\n",
    "        (\"system\",\"you are a helpful assistant, answer all the question to the best of your ability\"),\n",
    "        MessagesPlaceholder(variable_name=\"messages\")\n",
    "    ]\n",
    ")\n",
    "chain = prompt|model"
   ]
  },
  {
   "cell_type": "code",
   "execution_count": 27,
   "id": "f074f907-68fd-4049-b790-2cfa92008eb0",
   "metadata": {},
   "outputs": [
    {
     "data": {
      "text/plain": [
       "AIMessage(content=\"Hello Vamsi, I'm here to help you. Please feel free to ask any questions you have, and I will do my best to provide accurate and helpful responses. 😊\", additional_kwargs={}, response_metadata={'token_usage': {'completion_tokens': 39, 'prompt_tokens': 30, 'total_tokens': 69, 'completion_time': 0.058981897, 'prompt_time': 0.00317655, 'queue_time': 0.020568237, 'total_time': 0.062158447}, 'model_name': 'mixtral-8x7b-32768', 'system_fingerprint': 'fp_c5f20b5bb1', 'finish_reason': 'stop', 'logprobs': None}, id='run-bae74059-c174-45ca-b9e3-476c17b902d3-0', usage_metadata={'input_tokens': 30, 'output_tokens': 39, 'total_tokens': 69})"
      ]
     },
     "execution_count": 27,
     "metadata": {},
     "output_type": "execute_result"
    }
   ],
   "source": [
    "chain.invoke({\"messages\":[HumanMessage(content=\"Hi my name is Vamsi\")]})"
   ]
  },
  {
   "cell_type": "code",
   "execution_count": 28,
   "id": "0c3d9b74-22f3-4650-97ec-b46b648abb8c",
   "metadata": {},
   "outputs": [],
   "source": [
    "prompt2 = ChatPromptTemplate.from_messages(\n",
    "    [\n",
    "        (\"system\",\"you are a helpful assistant, answer all the question to the best of your ability in {language}\"),\n",
    "        MessagesPlaceholder(variable_name=\"messages\")\n",
    "    ]\n",
    ")\n",
    "chain2 = prompt2|model"
   ]
  },
  {
   "cell_type": "code",
   "execution_count": 29,
   "id": "a10f0f2e-fd98-4b6c-8f77-15e6f7d9c1ea",
   "metadata": {},
   "outputs": [
    {
     "data": {
      "text/plain": [
       "AIMessage(content='Namaste Vamsi, main aapki madad karti hoon. Aap mujhse koi bhi sawal pooch sakte hain, aur main apni taraf se uttam kadar jawab denge.', additional_kwargs={}, response_metadata={'token_usage': {'completion_tokens': 55, 'prompt_tokens': 33, 'total_tokens': 88, 'completion_time': 0.083544547, 'prompt_time': 0.004761175, 'queue_time': 0.019415383, 'total_time': 0.088305722}, 'model_name': 'mixtral-8x7b-32768', 'system_fingerprint': 'fp_c5f20b5bb1', 'finish_reason': 'stop', 'logprobs': None}, id='run-3c9eaf1b-b540-4571-ba81-9d3d1e8ffdcd-0', usage_metadata={'input_tokens': 33, 'output_tokens': 55, 'total_tokens': 88})"
      ]
     },
     "execution_count": 29,
     "metadata": {},
     "output_type": "execute_result"
    }
   ],
   "source": [
    "chain2.invoke({\"messages\":[HumanMessage(content=\"Hi my name is Vamsi\")],\"language\":\"Hindi\"})"
   ]
  },
  {
   "cell_type": "code",
   "execution_count": null,
   "id": "0551bc50-b3d5-4bf1-832b-0a0bce355830",
   "metadata": {},
   "outputs": [],
   "source": []
  },
  {
   "cell_type": "code",
   "execution_count": 30,
   "id": "f3d23d3c-0062-4ddf-9fda-79fbb531e55d",
   "metadata": {},
   "outputs": [],
   "source": [
    "with_message_history = RunnableWithMessageHistory(chain2,get_session_history,input_messages_key=\"messages\")"
   ]
  },
  {
   "cell_type": "code",
   "execution_count": 31,
   "id": "f82aae38-42f4-41cf-94db-ebd18d988a4a",
   "metadata": {},
   "outputs": [
    {
     "data": {
      "text/plain": [
       "'Namaste Vamsi! Main aapki madad karta hoon, aapka har saavdhaan puchhna chahta hoon, aur Hindi mein jawaab denge. Jee hoon, main aapki sarvashreshth se jawaab dene ki koshish karoonga.'"
      ]
     },
     "execution_count": 31,
     "metadata": {},
     "output_type": "execute_result"
    }
   ],
   "source": [
    "config4={\"configurable\":{\"session_id\":\"user_session4\"}}\n",
    "result =  with_message_history.invoke(\n",
    "    {\"messages\":[HumanMessage(content=\"Hi my name is Vamsi\")],\"language\":\"Hindi\"},\n",
    "    config=config4\n",
    ")\n",
    "result.content"
   ]
  },
  {
   "cell_type": "code",
   "execution_count": 32,
   "id": "ca43a52e-3d68-46b7-b800-9a73447d41a9",
   "metadata": {},
   "outputs": [
    {
     "data": {
      "text/plain": [
       "'Aapka naam Vamsi hai.'"
      ]
     },
     "execution_count": 32,
     "metadata": {},
     "output_type": "execute_result"
    }
   ],
   "source": [
    "result =  with_message_history.invoke(\n",
    "    {\"messages\":[HumanMessage(content=\"what is my name?\")],\"language\":\"Hindi\"},\n",
    "    config=config4\n",
    ")\n",
    "result.content"
   ]
  },
  {
   "cell_type": "code",
   "execution_count": null,
   "id": "ac7fce1f-1751-43ad-bf48-f107d69fbd23",
   "metadata": {},
   "outputs": [],
   "source": []
  },
  {
   "cell_type": "markdown",
   "id": "88e8b109-fc2c-4f73-bf97-65898768807c",
   "metadata": {},
   "source": [
    "# Managing conversation History"
   ]
  },
  {
   "cell_type": "code",
   "execution_count": 37,
   "id": "b1c5a5ae-57b9-4ad4-9148-7d0de1587781",
   "metadata": {},
   "outputs": [],
   "source": [
    "#If left unmanaged the list of messages grow unbounded and potentially overflow the context window of LLM, hence it is imp to add a step that limits size of messages you are passing in\n",
    "# trim_messages - reduce how many msgs we send to the model, the trimmer allows us to specify how many tokens we want to keep, \n",
    "#along with other parameters keeping system message, allowing partial messages"
   ]
  },
  {
   "cell_type": "code",
   "execution_count": 36,
   "id": "809c94a1-86d5-49c8-91a4-9c376655428a",
   "metadata": {},
   "outputs": [],
   "source": [
    "from langchain_core.messages import trim_messages"
   ]
  },
  {
   "cell_type": "code",
   "execution_count": 44,
   "id": "f1bc2aa5-4b2c-4142-815f-3fb5ccf3f7a3",
   "metadata": {},
   "outputs": [],
   "source": [
    "trimmer = trim_messages(\n",
    "    max_tokens=70,\n",
    "    strategy = \"last\",\n",
    "    token_counter = model,\n",
    "    include_system = True,\n",
    "    allow_partial = False,\n",
    "    start_on = \"Human\"\n",
    ")\n",
    "messages = [\n",
    "    SystemMessage(content = \"you're a good assistant\"),\n",
    "    HumanMessage(content = \"Hi! I'm bob\"),\n",
    "    AIMessage(content=\"hi!\"),\n",
    "    HumanMessage(content = \"i like vanilla ice cream\"),\n",
    "    AIMessage(content=\"nice\"),\n",
    "    HumanMessage(content = \"whats 2+2\"),\n",
    "    AIMessage(content=\"4\"),\n",
    "    HumanMessage(content = \"thanks\"),\n",
    "    AIMessage(content=\"no problem!\"),\n",
    "    HumanMessage(content = \"having fun?\"),\n",
    "    AIMessage(content=\"yes?\"),\n",
    "]\n",
    "res = trimmer.invoke(messages)"
   ]
  },
  {
   "cell_type": "code",
   "execution_count": 45,
   "id": "9cd7dd4a-eae4-4758-9341-045c0c062413",
   "metadata": {},
   "outputs": [
    {
     "data": {
      "text/plain": [
       "[]"
      ]
     },
     "execution_count": 45,
     "metadata": {},
     "output_type": "execute_result"
    }
   ],
   "source": [
    "res"
   ]
  },
  {
   "cell_type": "code",
   "execution_count": 43,
   "id": "a0d0aaaf-cb26-4d7e-9445-920f130373fc",
   "metadata": {},
   "outputs": [],
   "source": [
    "from operator import itemgetter\n",
    "\n",
    "from langchain_core.runnables import RunnablePassthrough"
   ]
  },
  {
   "cell_type": "code",
   "execution_count": 46,
   "id": "9bbb31c8-878e-4eaf-a4ed-f2ac71bb8f16",
   "metadata": {},
   "outputs": [
    {
     "data": {
      "text/plain": [
       "'Of course! I will do my best to answer any questions you have to the best of my ability. Please keep in mind that I am an AI language model and there are certain topics or questions that I may not be able to answer with complete accuracy or authority. I am here to help and provide useful and relevant information as best I can. Please go ahead and ask me a question.'"
      ]
     },
     "execution_count": 46,
     "metadata": {},
     "output_type": "execute_result"
    }
   ],
   "source": [
    "chain = (\n",
    "    RunnablePassthrough.assign(messages=itemgetter(\"messages\") | trimmer)\n",
    "    | prompt\n",
    "    | model\n",
    ")\n",
    "response = chain.invoke(\n",
    "    {\n",
    "    \"messages\":messages+ [HumanMessage(content=\"what ice cream do i like\")],\n",
    "    \"language\":\"English\"\n",
    "    }\n",
    ")\n",
    "response.content"
   ]
  },
  {
   "cell_type": "code",
   "execution_count": 48,
   "id": "ef634f62-f78d-4dbf-a19a-e687e50ca017",
   "metadata": {},
   "outputs": [
    {
     "data": {
      "text/plain": [
       "'Of course! I will do my best to answer any questions you have to the best of my ability. Please keep in mind that I am an artificial intelligence and there are certain things that I may not know or be able to do. If you have a question, just go ahead and ask!'"
      ]
     },
     "execution_count": 48,
     "metadata": {},
     "output_type": "execute_result"
    }
   ],
   "source": [
    "response = chain.invoke(\n",
    "    {\n",
    "    \"messages\":messages+ [HumanMessage(content=\"what is 2+2\")],\n",
    "    \"language\":\"English\"\n",
    "    }\n",
    ")\n",
    "response.content"
   ]
  },
  {
   "cell_type": "code",
   "execution_count": 49,
   "id": "5bb36187-4280-4b4a-b04e-fb8d8a02c14a",
   "metadata": {},
   "outputs": [
    {
     "data": {
      "text/plain": [
       "'I apologize, but you have not asked me any math problem yet. If you have a math problem or question that you would like me to help with, please let me know and I will do my best to assist you.'"
      ]
     },
     "execution_count": 49,
     "metadata": {},
     "output_type": "execute_result"
    }
   ],
   "source": [
    "## let's wrap this in message_history\n",
    "\n",
    "response = with_message_history.invoke(\n",
    "    {\n",
    "        \"messages\":[HumanMessage(content=\"what math problem did i ask?\")],\n",
    "        \"language\":\"English\"\n",
    "    },\n",
    "    config=config,\n",
    ")\n",
    "response.content"
   ]
  },
  {
   "cell_type": "code",
   "execution_count": null,
   "id": "cd6d1842-5b18-479f-ab15-453ac7a93e41",
   "metadata": {},
   "outputs": [],
   "source": []
  }
 ],
 "metadata": {
  "kernelspec": {
   "display_name": "Python 3 (ipykernel)",
   "language": "python",
   "name": "python3"
  },
  "language_info": {
   "codemirror_mode": {
    "name": "ipython",
    "version": 3
   },
   "file_extension": ".py",
   "mimetype": "text/x-python",
   "name": "python",
   "nbconvert_exporter": "python",
   "pygments_lexer": "ipython3",
   "version": "3.10.16"
  }
 },
 "nbformat": 4,
 "nbformat_minor": 5
}
