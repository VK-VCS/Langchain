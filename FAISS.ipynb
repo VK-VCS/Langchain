{
 "cells": [
  {
   "cell_type": "code",
   "execution_count": 3,
   "id": "99d6ed2f-fc03-4bf7-8db7-7299568355b5",
   "metadata": {},
   "outputs": [],
   "source": [
    "from langchain_community.document_loaders import TextLoader\n",
    "from langchain_community.vectorstores import FAISS"
   ]
  },
  {
   "cell_type": "code",
   "execution_count": 26,
   "id": "f1396906-c57a-4dad-8591-394171a66f33",
   "metadata": {},
   "outputs": [],
   "source": [
    "from langchain_ollama import OllamaEmbeddings\n",
    "from langchain_text_splitters import CharacterTextSplitter"
   ]
  },
  {
   "cell_type": "code",
   "execution_count": 12,
   "id": "51eb8b14-b877-41bf-913c-f2e26d41968f",
   "metadata": {},
   "outputs": [],
   "source": [
    "loader = TextLoader(\"Data Sources/speech.txt\")"
   ]
  },
  {
   "cell_type": "code",
   "execution_count": 13,
   "id": "9da06caf-928a-470e-ab17-d8f2d25f3e46",
   "metadata": {},
   "outputs": [],
   "source": [
    "documents = loader.load()"
   ]
  },
  {
   "cell_type": "code",
   "execution_count": 22,
   "id": "3ee98264-6b8e-4359-97da-e002fca82738",
   "metadata": {},
   "outputs": [
    {
     "name": "stderr",
     "output_type": "stream",
     "text": [
      "Created a chunk of size 256, which is longer than the specified 250\n"
     ]
    }
   ],
   "source": [
    "text_splitter = CharacterTextSplitter(chunk_size=250,chunk_overlap=10)\n",
    "docs = text_splitter.split_documents(documents)"
   ]
  },
  {
   "cell_type": "code",
   "execution_count": 24,
   "id": "7eb914a3-b5d4-4c8d-ae07-360132115d88",
   "metadata": {},
   "outputs": [
    {
     "data": {
      "text/plain": [
       "5"
      ]
     },
     "execution_count": 24,
     "metadata": {},
     "output_type": "execute_result"
    }
   ],
   "source": [
    "len(docs)"
   ]
  },
  {
   "cell_type": "code",
   "execution_count": 30,
   "id": "57151d80-32db-403f-9b71-d24988ce45fb",
   "metadata": {},
   "outputs": [
    {
     "data": {
      "text/plain": [
       "<langchain_community.vectorstores.faiss.FAISS at 0x235731d62c0>"
      ]
     },
     "execution_count": 30,
     "metadata": {},
     "output_type": "execute_result"
    }
   ],
   "source": [
    "embeddings = OllamaEmbeddings(model=\"mxbai-embed-large\",)\n",
    "db = FAISS.from_documents(docs,embeddings)\n",
    "db"
   ]
  },
  {
   "cell_type": "code",
   "execution_count": 31,
   "id": "395cb469-4193-4ce3-860e-6b6043d60d34",
   "metadata": {},
   "outputs": [],
   "source": [
    "query = \"what does the abdul kalam spoke about the nation?\""
   ]
  },
  {
   "cell_type": "code",
   "execution_count": 32,
   "id": "4806223d-1ee4-4941-8576-9d0a79eddb5e",
   "metadata": {},
   "outputs": [],
   "source": [
    "docs = db.similarity_search(query)"
   ]
  },
  {
   "cell_type": "code",
   "execution_count": 34,
   "id": "4e8fe459-86a8-406d-a01f-39625d63a8f7",
   "metadata": {},
   "outputs": [
    {
     "data": {
      "text/plain": [
       "[Document(id='ac475b77-48ae-43ca-8a1f-5b80a530ef89', metadata={'source': 'Data Sources/speech.txt'}, page_content='Kalam spoke about his vision for India to become a developed nation, and how the country should stand up to the world. He also emphasized the importance of protecting the environment and leaving the planet in good condition for future generations. [2, 3]'),\n",
       " Document(id='ca9294d5-6e1e-4c96-b0ea-9aa4f10ea255', metadata={'source': 'Data Sources/speech.txt'}, page_content=\"Dr. A.P.J. Abdul Kalam gave many speeches on a variety of topics, including education, the environment, and India's development. Here are some examples of his speeches: [1, 2, 3]  \\n\\nAddress to students\"),\n",
       " Document(id='13106cf7-a855-4b6a-b8a0-23bbe5599a4d', metadata={'source': 'Data Sources/speech.txt'}, page_content='Speech on international affairs \\n\\nKalam spoke about the importance of international cooperation to address issues like poverty, unemployment, and disease. He also emphasized the need for a just world order based on respect for sovereignty.'),\n",
       " Document(id='daf68870-fb17-45e6-ab92-4b84c321cc3b', metadata={'source': 'Data Sources/speech.txt'}, page_content='Kalam encouraged students to excel in their studies and become leaders in their chosen fields. He also emphasized the importance of having a strong moral compass and traditional values. [1]  \\n\\nVision for India')]"
      ]
     },
     "execution_count": 34,
     "metadata": {},
     "output_type": "execute_result"
    }
   ],
   "source": [
    "docs"
   ]
  },
  {
   "cell_type": "code",
   "execution_count": null,
   "id": "a68ff276-d124-4f18-9f47-08b491d614f6",
   "metadata": {},
   "outputs": [],
   "source": []
  },
  {
   "cell_type": "code",
   "execution_count": 35,
   "id": "b0692128-4509-46ca-9271-085c6814261b",
   "metadata": {},
   "outputs": [],
   "source": [
    "## we can also convert vectorstore to retriver class. This allows us to easily use it in other lanchain methods which largely work with retreivers"
   ]
  },
  {
   "cell_type": "code",
   "execution_count": 36,
   "id": "aacd7185-1799-4158-8fa2-5412e0288182",
   "metadata": {},
   "outputs": [
    {
     "data": {
      "text/plain": [
       "[Document(id='ac475b77-48ae-43ca-8a1f-5b80a530ef89', metadata={'source': 'Data Sources/speech.txt'}, page_content='Kalam spoke about his vision for India to become a developed nation, and how the country should stand up to the world. He also emphasized the importance of protecting the environment and leaving the planet in good condition for future generations. [2, 3]'),\n",
       " Document(id='ca9294d5-6e1e-4c96-b0ea-9aa4f10ea255', metadata={'source': 'Data Sources/speech.txt'}, page_content=\"Dr. A.P.J. Abdul Kalam gave many speeches on a variety of topics, including education, the environment, and India's development. Here are some examples of his speeches: [1, 2, 3]  \\n\\nAddress to students\"),\n",
       " Document(id='13106cf7-a855-4b6a-b8a0-23bbe5599a4d', metadata={'source': 'Data Sources/speech.txt'}, page_content='Speech on international affairs \\n\\nKalam spoke about the importance of international cooperation to address issues like poverty, unemployment, and disease. He also emphasized the need for a just world order based on respect for sovereignty.'),\n",
       " Document(id='daf68870-fb17-45e6-ab92-4b84c321cc3b', metadata={'source': 'Data Sources/speech.txt'}, page_content='Kalam encouraged students to excel in their studies and become leaders in their chosen fields. He also emphasized the importance of having a strong moral compass and traditional values. [1]  \\n\\nVision for India')]"
      ]
     },
     "execution_count": 36,
     "metadata": {},
     "output_type": "execute_result"
    }
   ],
   "source": [
    "retriever = db.as_retriever()"
   ]
  },
  {
   "cell_type": "code",
   "execution_count": 38,
   "id": "28e5a5a2-ffed-40ef-8a50-dcd92133cc3d",
   "metadata": {},
   "outputs": [],
   "source": [
    "docs_and_scores = db.similarity_search_with_score(query)"
   ]
  },
  {
   "cell_type": "code",
   "execution_count": 39,
   "id": "b5689e37-66b6-4267-8b43-79a41c89ad87",
   "metadata": {},
   "outputs": [
    {
     "data": {
      "text/plain": [
       "[(Document(id='ac475b77-48ae-43ca-8a1f-5b80a530ef89', metadata={'source': 'Data Sources/speech.txt'}, page_content='Kalam spoke about his vision for India to become a developed nation, and how the country should stand up to the world. He also emphasized the importance of protecting the environment and leaving the planet in good condition for future generations. [2, 3]'),\n",
       "  0.39208916),\n",
       " (Document(id='ca9294d5-6e1e-4c96-b0ea-9aa4f10ea255', metadata={'source': 'Data Sources/speech.txt'}, page_content=\"Dr. A.P.J. Abdul Kalam gave many speeches on a variety of topics, including education, the environment, and India's development. Here are some examples of his speeches: [1, 2, 3]  \\n\\nAddress to students\"),\n",
       "  0.4321068),\n",
       " (Document(id='13106cf7-a855-4b6a-b8a0-23bbe5599a4d', metadata={'source': 'Data Sources/speech.txt'}, page_content='Speech on international affairs \\n\\nKalam spoke about the importance of international cooperation to address issues like poverty, unemployment, and disease. He also emphasized the need for a just world order based on respect for sovereignty.'),\n",
       "  0.5183344),\n",
       " (Document(id='daf68870-fb17-45e6-ab92-4b84c321cc3b', metadata={'source': 'Data Sources/speech.txt'}, page_content='Kalam encouraged students to excel in their studies and become leaders in their chosen fields. He also emphasized the importance of having a strong moral compass and traditional values. [1]  \\n\\nVision for India'),\n",
       "  0.523571)]"
      ]
     },
     "execution_count": 39,
     "metadata": {},
     "output_type": "execute_result"
    }
   ],
   "source": [
    "docs_and_scores"
   ]
  },
  {
   "cell_type": "code",
   "execution_count": 41,
   "id": "791549a5-f6e8-47b0-81e5-9712656a9e2c",
   "metadata": {},
   "outputs": [
    {
     "data": {
      "text/plain": [
       "[Document(id='ac475b77-48ae-43ca-8a1f-5b80a530ef89', metadata={'source': 'Data Sources/speech.txt'}, page_content='Kalam spoke about his vision for India to become a developed nation, and how the country should stand up to the world. He also emphasized the importance of protecting the environment and leaving the planet in good condition for future generations. [2, 3]'),\n",
       " Document(id='ca9294d5-6e1e-4c96-b0ea-9aa4f10ea255', metadata={'source': 'Data Sources/speech.txt'}, page_content=\"Dr. A.P.J. Abdul Kalam gave many speeches on a variety of topics, including education, the environment, and India's development. Here are some examples of his speeches: [1, 2, 3]  \\n\\nAddress to students\"),\n",
       " Document(id='13106cf7-a855-4b6a-b8a0-23bbe5599a4d', metadata={'source': 'Data Sources/speech.txt'}, page_content='Speech on international affairs \\n\\nKalam spoke about the importance of international cooperation to address issues like poverty, unemployment, and disease. He also emphasized the need for a just world order based on respect for sovereignty.'),\n",
       " Document(id='daf68870-fb17-45e6-ab92-4b84c321cc3b', metadata={'source': 'Data Sources/speech.txt'}, page_content='Kalam encouraged students to excel in their studies and become leaders in their chosen fields. He also emphasized the importance of having a strong moral compass and traditional values. [1]  \\n\\nVision for India')]"
      ]
     },
     "execution_count": 41,
     "metadata": {},
     "output_type": "execute_result"
    }
   ],
   "source": [
    "embedding_vector = embeddings.embed_query(query)\n",
    "db.similarity_search_by_vector(embedding_vector)"
   ]
  },
  {
   "cell_type": "code",
   "execution_count": null,
   "id": "8505074c-0e96-4bf1-a576-439f6e638a27",
   "metadata": {},
   "outputs": [],
   "source": []
  },
  {
   "cell_type": "code",
   "execution_count": 43,
   "id": "357a7bb1-2c11-40fd-8396-c58693bd6eeb",
   "metadata": {},
   "outputs": [],
   "source": [
    "db.save_local(\"fiass_index\")"
   ]
  },
  {
   "cell_type": "code",
   "execution_count": 46,
   "id": "253c0f8b-4ca5-40e8-b9d0-2377d028c3f8",
   "metadata": {},
   "outputs": [],
   "source": [
    "new_db = FAISS.load_local(\"fiass_index\",embeddings,allow_dangerous_deserialization=True)"
   ]
  },
  {
   "cell_type": "code",
   "execution_count": 47,
   "id": "328308ca-b200-48b8-8f6f-88ae5a37b0a3",
   "metadata": {},
   "outputs": [
    {
     "data": {
      "text/plain": [
       "<langchain_community.vectorstores.faiss.FAISS at 0x23574698c70>"
      ]
     },
     "execution_count": 47,
     "metadata": {},
     "output_type": "execute_result"
    }
   ],
   "source": [
    "new_db"
   ]
  },
  {
   "cell_type": "code",
   "execution_count": 48,
   "id": "9afe8309-4562-4270-9a40-70f3af88c765",
   "metadata": {},
   "outputs": [
    {
     "data": {
      "text/plain": [
       "[Document(id='ac475b77-48ae-43ca-8a1f-5b80a530ef89', metadata={'source': 'Data Sources/speech.txt'}, page_content='Kalam spoke about his vision for India to become a developed nation, and how the country should stand up to the world. He also emphasized the importance of protecting the environment and leaving the planet in good condition for future generations. [2, 3]'),\n",
       " Document(id='ca9294d5-6e1e-4c96-b0ea-9aa4f10ea255', metadata={'source': 'Data Sources/speech.txt'}, page_content=\"Dr. A.P.J. Abdul Kalam gave many speeches on a variety of topics, including education, the environment, and India's development. Here are some examples of his speeches: [1, 2, 3]  \\n\\nAddress to students\"),\n",
       " Document(id='13106cf7-a855-4b6a-b8a0-23bbe5599a4d', metadata={'source': 'Data Sources/speech.txt'}, page_content='Speech on international affairs \\n\\nKalam spoke about the importance of international cooperation to address issues like poverty, unemployment, and disease. He also emphasized the need for a just world order based on respect for sovereignty.'),\n",
       " Document(id='daf68870-fb17-45e6-ab92-4b84c321cc3b', metadata={'source': 'Data Sources/speech.txt'}, page_content='Kalam encouraged students to excel in their studies and become leaders in their chosen fields. He also emphasized the importance of having a strong moral compass and traditional values. [1]  \\n\\nVision for India')]"
      ]
     },
     "execution_count": 48,
     "metadata": {},
     "output_type": "execute_result"
    }
   ],
   "source": [
    "new_db.similarity_search_by_vector(embedding_vector)"
   ]
  },
  {
   "cell_type": "code",
   "execution_count": null,
   "id": "cfb6d580-44a8-461c-87e3-e4c580ed2c4c",
   "metadata": {},
   "outputs": [],
   "source": []
  }
 ],
 "metadata": {
  "kernelspec": {
   "display_name": "Python 3 (ipykernel)",
   "language": "python",
   "name": "python3"
  },
  "language_info": {
   "codemirror_mode": {
    "name": "ipython",
    "version": 3
   },
   "file_extension": ".py",
   "mimetype": "text/x-python",
   "name": "python",
   "nbconvert_exporter": "python",
   "pygments_lexer": "ipython3",
   "version": "3.10.16"
  }
 },
 "nbformat": 4,
 "nbformat_minor": 5
}
