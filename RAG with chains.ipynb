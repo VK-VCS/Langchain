{
 "cells": [
  {
   "cell_type": "code",
   "execution_count": 59,
   "id": "b3e5d958-27ea-4ee6-872b-d097fd023063",
   "metadata": {},
   "outputs": [],
   "source": [
    "from langchain_core.documents import Document"
   ]
  },
  {
   "cell_type": "code",
   "execution_count": 60,
   "id": "a74745d8-845f-44c8-be91-61fd3f325510",
   "metadata": {},
   "outputs": [],
   "source": [
    "document = [\n",
    "    Document(\n",
    "        page_content = \"Dogs are great companions, known for their loyalty and friendliness.\",\n",
    "        meta_data={\"source\":\"mammal-pets-doc\"},\n",
    "    ),\n",
    "    Document(\n",
    "        page_content = \"Cats are independent pets that ofteb enjoy their own space.\",\n",
    "        meta_data={\"source\":\"mammal-pets-doc\"},\n",
    "    ),\n",
    "    Document(\n",
    "        page_content = \"Goldfish are popular pets for beginners, requiring relatively simple care.\",\n",
    "        meta_data={\"source\":\"fish-pets-doc\"},\n",
    "    ),\n",
    "    Document(\n",
    "        page_content = \"Parrots are intelligent birds capable of mimicking human speech.\",\n",
    "        meta_data={\"source\":\"bird-pets-doc\"},\n",
    "    ),\n",
    "    Document(\n",
    "        page_content = \"Rabbits are social animals that need plenty of space to hop around.\",\n",
    "        meta_data={\"source\":\"mammal-pets-doc\"},\n",
    "    ),\n",
    "]"
   ]
  },
  {
   "cell_type": "code",
   "execution_count": 61,
   "id": "c8e1bdd0-3e74-4c71-b146-7d569c21dc5a",
   "metadata": {},
   "outputs": [],
   "source": [
    "## vector stores\n",
    "from langchain_chroma import Chroma"
   ]
  },
  {
   "cell_type": "code",
   "execution_count": 62,
   "id": "f5f7a525-79c9-406f-ab7e-61974dcfdf1e",
   "metadata": {},
   "outputs": [
    {
     "data": {
      "text/plain": [
       "True"
      ]
     },
     "execution_count": 62,
     "metadata": {},
     "output_type": "execute_result"
    }
   ],
   "source": [
    "import os\n",
    "from dotenv import load_dotenv\n",
    "load_dotenv()"
   ]
  },
  {
   "cell_type": "code",
   "execution_count": 63,
   "id": "e94bf101-f8a8-409d-8067-2cc58c1588fa",
   "metadata": {},
   "outputs": [],
   "source": [
    "from langchain_groq import ChatGroq"
   ]
  },
  {
   "cell_type": "code",
   "execution_count": 64,
   "id": "4f7609aa-e120-425c-9982-c6bee5e82451",
   "metadata": {},
   "outputs": [],
   "source": [
    "groq_api_key = os.getenv(\"GROQ_API_KEY\")\n",
    "os.environ[\"HF_TOKEN\"]=os.getenv(\"HF_TOKEN\")\n",
    "llm = ChatGroq(groq_api_key=groq_api_key,model=\"Llama3-8b-8192\")"
   ]
  },
  {
   "cell_type": "code",
   "execution_count": 65,
   "id": "be453057-e7ab-4ae4-bbc0-36edb0f53a7a",
   "metadata": {},
   "outputs": [],
   "source": [
    "from langchain_huggingface import HuggingFaceEmbeddings"
   ]
  },
  {
   "cell_type": "code",
   "execution_count": 66,
   "id": "e4dff7e8-dee9-46c9-b5d4-e50332bcd19a",
   "metadata": {},
   "outputs": [],
   "source": [
    "embeddings = HuggingFaceEmbeddings(model_name=\"all-MiniLM-L6-v2\")"
   ]
  },
  {
   "cell_type": "code",
   "execution_count": 67,
   "id": "e5fb42bb-15d4-490f-a041-dff47f695f99",
   "metadata": {},
   "outputs": [],
   "source": [
    "vectorstore = Chroma.from_documents(document,embedding=embeddings)"
   ]
  },
  {
   "cell_type": "code",
   "execution_count": 68,
   "id": "a1a1abf6-7320-479c-ba61-4386b7729c83",
   "metadata": {},
   "outputs": [
    {
     "data": {
      "text/plain": [
       "[Document(id='931411aa-ee10-4ff3-aaec-34b57e970ff3', metadata={}, page_content='Cats are independent pets that ofteb enjoy their own space.'),\n",
       " Document(id='27b22983-ea31-4ba3-a63c-95f168a4974f', metadata={}, page_content='Cats are independent pets that ofteb enjoy their own space.'),\n",
       " Document(id='3f0071bf-87d9-4996-8da8-9f11e770a8bf', metadata={}, page_content='Dogs are great companions, known for their loyalty and friendliness.'),\n",
       " Document(id='83002884-6c96-4502-a44a-feaf5f67242f', metadata={}, page_content='Dogs are great companions, known for their loyalty and friendliness.')]"
      ]
     },
     "execution_count": 68,
     "metadata": {},
     "output_type": "execute_result"
    }
   ],
   "source": [
    "vectorstore.similarity_search(\"cat\")"
   ]
  },
  {
   "cell_type": "code",
   "execution_count": 69,
   "id": "716561cc-9aa0-4460-89ce-06b52189dca0",
   "metadata": {},
   "outputs": [
    {
     "data": {
      "text/plain": [
       "[Document(id='931411aa-ee10-4ff3-aaec-34b57e970ff3', metadata={}, page_content='Cats are independent pets that ofteb enjoy their own space.'),\n",
       " Document(id='27b22983-ea31-4ba3-a63c-95f168a4974f', metadata={}, page_content='Cats are independent pets that ofteb enjoy their own space.'),\n",
       " Document(id='3f0071bf-87d9-4996-8da8-9f11e770a8bf', metadata={}, page_content='Dogs are great companions, known for their loyalty and friendliness.'),\n",
       " Document(id='83002884-6c96-4502-a44a-feaf5f67242f', metadata={}, page_content='Dogs are great companions, known for their loyalty and friendliness.')]"
      ]
     },
     "execution_count": 69,
     "metadata": {},
     "output_type": "execute_result"
    }
   ],
   "source": [
    "##Async query\n",
    "await vectorstore.asimilarity_search(\"cat\")"
   ]
  },
  {
   "cell_type": "code",
   "execution_count": 70,
   "id": "7208e54e-62d4-44cd-a69e-0c0060a04391",
   "metadata": {},
   "outputs": [
    {
     "data": {
      "text/plain": [
       "[(Document(id='931411aa-ee10-4ff3-aaec-34b57e970ff3', metadata={}, page_content='Cats are independent pets that ofteb enjoy their own space.'),\n",
       "  0.9372676610946655),\n",
       " (Document(id='27b22983-ea31-4ba3-a63c-95f168a4974f', metadata={}, page_content='Cats are independent pets that ofteb enjoy their own space.'),\n",
       "  0.9372676610946655),\n",
       " (Document(id='3f0071bf-87d9-4996-8da8-9f11e770a8bf', metadata={}, page_content='Dogs are great companions, known for their loyalty and friendliness.'),\n",
       "  1.5740898847579956),\n",
       " (Document(id='83002884-6c96-4502-a44a-feaf5f67242f', metadata={}, page_content='Dogs are great companions, known for their loyalty and friendliness.'),\n",
       "  1.5740898847579956)]"
      ]
     },
     "execution_count": 70,
     "metadata": {},
     "output_type": "execute_result"
    }
   ],
   "source": [
    "vectorstore.similarity_search_with_score(\"Cat\")"
   ]
  },
  {
   "cell_type": "raw",
   "id": "36432a75-a884-4bc6-bfcc-d54cbdb9aa68",
   "metadata": {},
   "source": [
    "langchain vector store objects do not class subclass Runnable, henvr cannot be integrated into LCEL chains\n",
    "\n",
    "langchain retreivers are runnable, so they implements standard set of methods (e.g. synchronous and asynchronous invoke and batch opertions) and are designed to be incorporated in LCEL chains"
   ]
  },
  {
   "cell_type": "code",
   "execution_count": 71,
   "id": "fea60421-a29a-4c72-9d8d-2ed54de86696",
   "metadata": {},
   "outputs": [],
   "source": [
    "from typing import List\n",
    "\n",
    "from langchain_core.documents import Document\n",
    "from langchain_core.runnables import RunnableLambda"
   ]
  },
  {
   "cell_type": "code",
   "execution_count": 72,
   "id": "7f78908f-cce1-4ab0-8c08-78816ddd1b52",
   "metadata": {},
   "outputs": [
    {
     "data": {
      "text/plain": [
       "[[Document(id='27b22983-ea31-4ba3-a63c-95f168a4974f', metadata={}, page_content='Cats are independent pets that ofteb enjoy their own space.')],\n",
       " [Document(id='83002884-6c96-4502-a44a-feaf5f67242f', metadata={}, page_content='Dogs are great companions, known for their loyalty and friendliness.')]]"
      ]
     },
     "execution_count": 72,
     "metadata": {},
     "output_type": "execute_result"
    }
   ],
   "source": [
    "## creating retriver with Runnable Lambda\n",
    "\n",
    "retriever = RunnableLambda(vectorstore.similarity_search).bind(k=1)\n",
    "retriever.batch([\"cat\",\"dog\"])"
   ]
  },
  {
   "cell_type": "code",
   "execution_count": 73,
   "id": "4ec65ceb-dc24-43f8-9fc9-cabe98ddbd8c",
   "metadata": {},
   "outputs": [
    {
     "data": {
      "text/plain": [
       "[[Document(id='27b22983-ea31-4ba3-a63c-95f168a4974f', metadata={}, page_content='Cats are independent pets that ofteb enjoy their own space.')],\n",
       " [Document(id='83002884-6c96-4502-a44a-feaf5f67242f', metadata={}, page_content='Dogs are great companions, known for their loyalty and friendliness.')]]"
      ]
     },
     "execution_count": 73,
     "metadata": {},
     "output_type": "execute_result"
    }
   ],
   "source": [
    "## creating retriever with vectorstore retriever\n",
    "retriever = vectorstore.as_retriever(\n",
    "    search_type=\"similarity\",\n",
    "    search_kwargs={\"k\":1}\n",
    ")\n",
    "retriever.batch([\"cat\",\"dog\"])"
   ]
  },
  {
   "cell_type": "code",
   "execution_count": null,
   "id": "e59e2477-93e8-4365-b3e3-65644b24e37c",
   "metadata": {},
   "outputs": [],
   "source": []
  },
  {
   "cell_type": "code",
   "execution_count": 74,
   "id": "08acf42e-5193-42ff-ad8e-d980028e0192",
   "metadata": {},
   "outputs": [],
   "source": [
    "from langchain_core.prompts import ChatPromptTemplate\n",
    "from langchain_core.runnables import RunnablePassthrough"
   ]
  },
  {
   "cell_type": "code",
   "execution_count": 75,
   "id": "da22bac8-19dc-4d0f-980c-04e894f79126",
   "metadata": {},
   "outputs": [],
   "source": [
    "message = \"\"\"\n",
    "Answer this question using the provided context only.\n",
    "\n",
    "{question}\n",
    "\n",
    "context:\n",
    "{context}\n",
    "\"\"\"\n",
    "prompt = ChatPromptTemplate.from_messages([(\"human\",message)])"
   ]
  },
  {
   "cell_type": "code",
   "execution_count": 76,
   "id": "8fc7fbfb-b495-4c31-9434-91818947f925",
   "metadata": {},
   "outputs": [],
   "source": [
    "from langchain_core.output_parsers import StrOutputParser"
   ]
  },
  {
   "cell_type": "code",
   "execution_count": 77,
   "id": "169daa0c-5e99-43f3-a9eb-70535766aaab",
   "metadata": {},
   "outputs": [],
   "source": [
    "parser = StrOutputParser()"
   ]
  },
  {
   "cell_type": "code",
   "execution_count": 78,
   "id": "3cff5b99-7065-4b4f-b1c4-1a82a5a0de19",
   "metadata": {},
   "outputs": [],
   "source": [
    "rag_chain = {\"context\":retriever,\"question\":RunnablePassthrough()}|prompt|llm|parser"
   ]
  },
  {
   "cell_type": "code",
   "execution_count": 79,
   "id": "3f3c4bc3-94fb-4050-b6ed-a45bf09d7674",
   "metadata": {},
   "outputs": [],
   "source": [
    "response = rag_chain.invoke(\"tell me about dogs\")"
   ]
  },
  {
   "cell_type": "code",
   "execution_count": 80,
   "id": "3ae61bcb-8e3b-4814-bbc7-bb1723e33347",
   "metadata": {},
   "outputs": [
    {
     "data": {
      "text/plain": [
       "'According to the provided context, dogs are great companions, known for their loyalty and friendliness.'"
      ]
     },
     "execution_count": 80,
     "metadata": {},
     "output_type": "execute_result"
    }
   ],
   "source": [
    "response"
   ]
  },
  {
   "cell_type": "code",
   "execution_count": null,
   "id": "38d5e598-5022-4a85-b8f6-4d3e205137e8",
   "metadata": {},
   "outputs": [],
   "source": []
  },
  {
   "cell_type": "code",
   "execution_count": 81,
   "id": "dd477ee0-bf1a-4bf9-9adb-83084b811f2d",
   "metadata": {},
   "outputs": [],
   "source": [
    "## way 2 -- one more way of creating advanced rag chain"
   ]
  },
  {
   "cell_type": "code",
   "execution_count": 82,
   "id": "0012364c-05a0-471b-b3b7-fa0cd4cf15b7",
   "metadata": {},
   "outputs": [],
   "source": [
    "from langchain.chains import create_retrieval_chain\n",
    "from langchain.chains.combine_documents import create_stuff_documents_chain"
   ]
  },
  {
   "cell_type": "code",
   "execution_count": 83,
   "id": "1c7855e1-c962-443d-86b1-65a5271214fc",
   "metadata": {},
   "outputs": [
    {
     "data": {
      "text/plain": [
       "VectorStoreRetriever(tags=['Chroma', 'HuggingFaceEmbeddings'], vectorstore=<langchain_chroma.vectorstores.Chroma object at 0x0000022F63C0C9D0>, search_kwargs={'k': 1})"
      ]
     },
     "execution_count": 83,
     "metadata": {},
     "output_type": "execute_result"
    }
   ],
   "source": [
    "retriever# for vector store"
   ]
  },
  {
   "cell_type": "code",
   "execution_count": 84,
   "id": "ed3c6bb2-bd3f-4068-98a6-95352c29fa73",
   "metadata": {},
   "outputs": [],
   "source": [
    "system_prompt = (\n",
    "    \"You are an assistant for question-answering tasks. \"\n",
    "    \"use the following pieces of retrieved context to answer \"\n",
    "    \"the question. if you don't know the answer, say that you \"\n",
    "    \"don't know, use three sentences maximum and keep the answer concise.\"\n",
    "    \"\\n\\n\"\n",
    "    \"{context}\"\n",
    ")\n",
    "prompt = ChatPromptTemplate.from_messages([(\"system\",system_prompt),\n",
    "                                          (\"human\",\"{input}\"),\n",
    "                                          ])\n",
    "question_answer_chain = create_stuff_documents_chain(llm,prompt)\n",
    "rag_chain = create_retrieval_chain(retriever,question_answer_chain)"
   ]
  },
  {
   "cell_type": "code",
   "execution_count": 85,
   "id": "5d1009da-5648-4546-8dde-6e7384cf6c1b",
   "metadata": {},
   "outputs": [],
   "source": [
    "response = rag_chain.invoke({'input':\"tell me about dog\"})"
   ]
  },
  {
   "cell_type": "code",
   "execution_count": 86,
   "id": "34780e03-2adb-4ec5-8694-7ef73bc9f318",
   "metadata": {},
   "outputs": [
    {
     "data": {
      "text/plain": [
       "{'input': 'tell me about dog',\n",
       " 'context': [Document(id='83002884-6c96-4502-a44a-feaf5f67242f', metadata={}, page_content='Dogs are great companions, known for their loyalty and friendliness.')],\n",
       " 'answer': 'According to the given context, dogs are known for their loyalty and friendliness, making them great companions.'}"
      ]
     },
     "execution_count": 86,
     "metadata": {},
     "output_type": "execute_result"
    }
   ],
   "source": [
    "response"
   ]
  },
  {
   "cell_type": "code",
   "execution_count": 87,
   "id": "511ae605-9119-4d11-b5dc-4f39bf0d25e5",
   "metadata": {},
   "outputs": [
    {
     "data": {
      "text/plain": [
       "'According to the given context, dogs are known for their loyalty and friendliness, making them great companions.'"
      ]
     },
     "execution_count": 87,
     "metadata": {},
     "output_type": "execute_result"
    }
   ],
   "source": [
    "response['answer']"
   ]
  },
  {
   "cell_type": "code",
   "execution_count": null,
   "id": "9a4808de-c1aa-4ba1-9b02-aef3a0a6c3e5",
   "metadata": {},
   "outputs": [],
   "source": []
  },
  {
   "cell_type": "code",
   "execution_count": 88,
   "id": "b1167a63-4c7f-46e4-a47d-05a678a12ec3",
   "metadata": {},
   "outputs": [],
   "source": [
    "#adding chat history"
   ]
  },
  {
   "cell_type": "code",
   "execution_count": 89,
   "id": "e8ad46ab-92ce-4df2-adaf-89efca795b06",
   "metadata": {},
   "outputs": [],
   "source": [
    "from langchain.chains import create_history_aware_retriever\n",
    "from langchain_core.prompts import MessagesPlaceholder"
   ]
  },
  {
   "cell_type": "code",
   "execution_count": 90,
   "id": "cbd6090a-abbe-4989-86b8-2b895d528a08",
   "metadata": {},
   "outputs": [],
   "source": [
    "contextualizr_q_system_prompt = (\n",
    "    \"Given a chat history and the latest user question \"\n",
    "    \"which might reference context in the chat history, \"\n",
    "    \"formulate a standalone question which can be understood \"\n",
    "    \"without the chat history. Do not answer the question, \"\n",
    "    \"just reformulate it if needed and otherwise return it as is.\"\n",
    ")"
   ]
  },
  {
   "cell_type": "code",
   "execution_count": 91,
   "id": "ca5a6530-3568-4cde-b735-601953cc2566",
   "metadata": {},
   "outputs": [],
   "source": [
    "contextualize_q_prompt = ChatPromptTemplate.from_messages(\n",
    "    [\n",
    "        (\"system\", contextualizr_q_system_prompt),\n",
    "        MessagesPlaceholder(\"chat_history\"),\n",
    "        (\"human\",\"{input}\"),\n",
    "    ]\n",
    ")"
   ]
  },
  {
   "cell_type": "code",
   "execution_count": 92,
   "id": "5cbe1720-bbfd-43fb-b99a-41b003f711a4",
   "metadata": {},
   "outputs": [],
   "source": [
    "history_aware_retriever = create_history_aware_retriever(llm,retriever,contextualize_q_prompt)"
   ]
  },
  {
   "cell_type": "code",
   "execution_count": 94,
   "id": "21a6bcf1-7db0-4448-8ba8-b7bc5c319594",
   "metadata": {},
   "outputs": [],
   "source": [
    "qa_prompt = ChatPromptTemplate.from_messages(\n",
    "    [\n",
    "        (\"system\", contextualizr_q_system_prompt),\n",
    "        MessagesPlaceholder(\"chat_history\"),\n",
    "        (\"human\",\"{input}\"),\n",
    "    ]\n",
    ")"
   ]
  },
  {
   "cell_type": "code",
   "execution_count": 95,
   "id": "8066cb01-fd28-4597-89c1-18284ce68aff",
   "metadata": {},
   "outputs": [
    {
     "ename": "ValueError",
     "evalue": "Prompt must accept context as an input variable. Received prompt with input variables: ['chat_history', 'input']",
     "output_type": "error",
     "traceback": [
      "\u001b[1;31m---------------------------------------------------------------------------\u001b[0m",
      "\u001b[1;31mValueError\u001b[0m                                Traceback (most recent call last)",
      "Cell \u001b[1;32mIn[95], line 1\u001b[0m\n\u001b[1;32m----> 1\u001b[0m question_answer_chain \u001b[38;5;241m=\u001b[39m \u001b[43mcreate_stuff_documents_chain\u001b[49m\u001b[43m(\u001b[49m\u001b[43mllm\u001b[49m\u001b[43m,\u001b[49m\u001b[43mqa_prompt\u001b[49m\u001b[43m)\u001b[49m\n\u001b[0;32m      2\u001b[0m rag_chain \u001b[38;5;241m=\u001b[39m create_retrieval_chain(history_aware_retriever,question_answer_chain)\n",
      "File \u001b[1;32m~\\AppData\\Local\\anaconda3\\envs\\langchain\\lib\\site-packages\\langchain\\chains\\combine_documents\\stuff.py:79\u001b[0m, in \u001b[0;36mcreate_stuff_documents_chain\u001b[1;34m(llm, prompt, output_parser, document_prompt, document_separator, document_variable_name)\u001b[0m\n\u001b[0;32m     24\u001b[0m \u001b[38;5;28;01mdef\u001b[39;00m \u001b[38;5;21mcreate_stuff_documents_chain\u001b[39m(\n\u001b[0;32m     25\u001b[0m     llm: LanguageModelLike,\n\u001b[0;32m     26\u001b[0m     prompt: BasePromptTemplate,\n\u001b[1;32m   (...)\u001b[0m\n\u001b[0;32m     31\u001b[0m     document_variable_name: \u001b[38;5;28mstr\u001b[39m \u001b[38;5;241m=\u001b[39m DOCUMENTS_KEY,\n\u001b[0;32m     32\u001b[0m ) \u001b[38;5;241m-\u001b[39m\u001b[38;5;241m>\u001b[39m Runnable[Dict[\u001b[38;5;28mstr\u001b[39m, Any], Any]:\n\u001b[0;32m     33\u001b[0m \u001b[38;5;250m    \u001b[39m\u001b[38;5;124;03m\"\"\"Create a chain for passing a list of Documents to a model.\u001b[39;00m\n\u001b[0;32m     34\u001b[0m \n\u001b[0;32m     35\u001b[0m \u001b[38;5;124;03m    Args:\u001b[39;00m\n\u001b[1;32m   (...)\u001b[0m\n\u001b[0;32m     76\u001b[0m \u001b[38;5;124;03m            chain.invoke({\"context\": docs})\u001b[39;00m\n\u001b[0;32m     77\u001b[0m \u001b[38;5;124;03m    \"\"\"\u001b[39;00m  \u001b[38;5;66;03m# noqa: E501\u001b[39;00m\n\u001b[1;32m---> 79\u001b[0m     \u001b[43m_validate_prompt\u001b[49m\u001b[43m(\u001b[49m\u001b[43mprompt\u001b[49m\u001b[43m,\u001b[49m\u001b[43m \u001b[49m\u001b[43mdocument_variable_name\u001b[49m\u001b[43m)\u001b[49m\n\u001b[0;32m     80\u001b[0m     _document_prompt \u001b[38;5;241m=\u001b[39m document_prompt \u001b[38;5;129;01mor\u001b[39;00m DEFAULT_DOCUMENT_PROMPT\n\u001b[0;32m     81\u001b[0m     _output_parser \u001b[38;5;241m=\u001b[39m output_parser \u001b[38;5;129;01mor\u001b[39;00m StrOutputParser()\n",
      "File \u001b[1;32m~\\AppData\\Local\\anaconda3\\envs\\langchain\\lib\\site-packages\\langchain\\chains\\combine_documents\\base.py:27\u001b[0m, in \u001b[0;36m_validate_prompt\u001b[1;34m(prompt, document_variable_name)\u001b[0m\n\u001b[0;32m     25\u001b[0m \u001b[38;5;28;01mdef\u001b[39;00m \u001b[38;5;21m_validate_prompt\u001b[39m(prompt: BasePromptTemplate, document_variable_name: \u001b[38;5;28mstr\u001b[39m) \u001b[38;5;241m-\u001b[39m\u001b[38;5;241m>\u001b[39m \u001b[38;5;28;01mNone\u001b[39;00m:\n\u001b[0;32m     26\u001b[0m     \u001b[38;5;28;01mif\u001b[39;00m document_variable_name \u001b[38;5;129;01mnot\u001b[39;00m \u001b[38;5;129;01min\u001b[39;00m prompt\u001b[38;5;241m.\u001b[39minput_variables:\n\u001b[1;32m---> 27\u001b[0m         \u001b[38;5;28;01mraise\u001b[39;00m \u001b[38;5;167;01mValueError\u001b[39;00m(\n\u001b[0;32m     28\u001b[0m             \u001b[38;5;124mf\u001b[39m\u001b[38;5;124m\"\u001b[39m\u001b[38;5;124mPrompt must accept \u001b[39m\u001b[38;5;132;01m{\u001b[39;00mdocument_variable_name\u001b[38;5;132;01m}\u001b[39;00m\u001b[38;5;124m as an input variable. \u001b[39m\u001b[38;5;124m\"\u001b[39m\n\u001b[0;32m     29\u001b[0m             \u001b[38;5;124mf\u001b[39m\u001b[38;5;124m\"\u001b[39m\u001b[38;5;124mReceived prompt with input variables: \u001b[39m\u001b[38;5;132;01m{\u001b[39;00mprompt\u001b[38;5;241m.\u001b[39minput_variables\u001b[38;5;132;01m}\u001b[39;00m\u001b[38;5;124m\"\u001b[39m\n\u001b[0;32m     30\u001b[0m         )\n",
      "\u001b[1;31mValueError\u001b[0m: Prompt must accept context as an input variable. Received prompt with input variables: ['chat_history', 'input']"
     ]
    }
   ],
   "source": [
    "question_answer_chain = create_stuff_documents_chain(llm,qa_prompt)\n",
    "rag_chain = create_retrieval_chain(history_aware_retriever,question_answer_chain)"
   ]
  },
  {
   "cell_type": "code",
   "execution_count": null,
   "id": "1351bdd0-3df3-4c47-a560-ffe50650b596",
   "metadata": {},
   "outputs": [],
   "source": []
  }
 ],
 "metadata": {
  "kernelspec": {
   "display_name": "Python 3 (ipykernel)",
   "language": "python",
   "name": "python3"
  },
  "language_info": {
   "codemirror_mode": {
    "name": "ipython",
    "version": 3
   },
   "file_extension": ".py",
   "mimetype": "text/x-python",
   "name": "python",
   "nbconvert_exporter": "python",
   "pygments_lexer": "ipython3",
   "version": "3.10.16"
  }
 },
 "nbformat": 4,
 "nbformat_minor": 5
}
