{
 "cells": [
  {
   "cell_type": "code",
   "execution_count": 1,
   "id": "97556d9b-6488-47dd-9769-2e5127b0e4ea",
   "metadata": {},
   "outputs": [],
   "source": [
    "from PyPDF2 import PdfReader\n",
    "from langchain.text_splitter import CharacterTextSplitter"
   ]
  },
  {
   "cell_type": "code",
   "execution_count": null,
   "id": "33ca4bb5-f022-4236-8936-4cf146ed9b28",
   "metadata": {},
   "outputs": [],
   "source": []
  },
  {
   "cell_type": "code",
   "execution_count": 2,
   "id": "c46112e1-84aa-4e20-82b7-29bda1383547",
   "metadata": {},
   "outputs": [],
   "source": [
    "pdfreader = PdfReader(\"nvidia-ada-gpu-architecture-whitepaper-v2.1.pdf\")"
   ]
  },
  {
   "cell_type": "code",
   "execution_count": 3,
   "id": "3fc8642b-9da6-4199-8e5d-ce26ba07ed4c",
   "metadata": {},
   "outputs": [
    {
     "data": {
      "text/plain": [
       "41"
      ]
     },
     "execution_count": 3,
     "metadata": {},
     "output_type": "execute_result"
    }
   ],
   "source": [
    "len(pdfreader.pages)"
   ]
  },
  {
   "cell_type": "code",
   "execution_count": 4,
   "id": "5b96e3dd-c467-4a5d-901d-5af9a5d83eb1",
   "metadata": {},
   "outputs": [],
   "source": [
    "raw_text=''\n",
    "\n",
    "for i, page in enumerate(pdfreader.pages):\n",
    "    content = page.extract_text()\n",
    "    if content:\n",
    "        raw_text +=content"
   ]
  },
  {
   "cell_type": "code",
   "execution_count": 19,
   "id": "0e6ba7e2-227e-42e2-9f2e-3c3a7e6191e6",
   "metadata": {},
   "outputs": [],
   "source": [
    "text_splitter = CharacterTextSplitter(\n",
    "    separator = \"\",\n",
    "    chunk_size = 384,\n",
    "    #chunk_overlap=50,\n",
    "    length_function = len    \n",
    ")"
   ]
  },
  {
   "cell_type": "code",
   "execution_count": 20,
   "id": "680d7ece-4895-48df-9536-0d62a39f8dae",
   "metadata": {},
   "outputs": [],
   "source": [
    "texts = text_splitter.split_text(raw_text)"
   ]
  },
  {
   "cell_type": "code",
   "execution_count": 21,
   "id": "cfb88a8e-b603-4c35-8f08-f144e80d8845",
   "metadata": {},
   "outputs": [
    {
     "data": {
      "text/plain": [
       "388"
      ]
     },
     "execution_count": 21,
     "metadata": {},
     "output_type": "execute_result"
    }
   ],
   "source": [
    "len(texts)"
   ]
  },
  {
   "cell_type": "code",
   "execution_count": null,
   "id": "2a5ccb11-89c5-448b-9f87-dc292cd496cc",
   "metadata": {},
   "outputs": [],
   "source": []
  },
  {
   "cell_type": "code",
   "execution_count": 22,
   "id": "d80dfe54-2042-47e3-95a0-6944dcbaaaff",
   "metadata": {},
   "outputs": [],
   "source": [
    "from langchain.embeddings import HuggingFaceEmbeddings"
   ]
  },
  {
   "cell_type": "code",
   "execution_count": 23,
   "id": "98964bfe-10fa-404c-b008-45bae7acb728",
   "metadata": {},
   "outputs": [],
   "source": [
    "model_name = \"sentence-transformers/all-mpnet-base-v2\"\n",
    "\n",
    "embeddings = HuggingFaceEmbeddings(model_name=model_name)"
   ]
  },
  {
   "cell_type": "markdown",
   "id": "03c1b46a-7f42-4e1f-b1d7-58fe077a1466",
   "metadata": {},
   "source": [
    "!pip install pinecone-client"
   ]
  },
  {
   "cell_type": "code",
   "execution_count": 10,
   "id": "4ffbc2a5-1335-4d2f-82a8-46a52041707f",
   "metadata": {},
   "outputs": [],
   "source": [
    "from pinecone import Pinecone"
   ]
  },
  {
   "cell_type": "code",
   "execution_count": 11,
   "id": "e4accea9-4dce-4016-b74b-e9068b6b281b",
   "metadata": {},
   "outputs": [],
   "source": [
    "import os\n",
    "os.environ['PINECONE_API_KEY'] = \"452d34ca-1475-4020-a9cb-c6d4af7e87ab\""
   ]
  },
  {
   "cell_type": "code",
   "execution_count": null,
   "id": "05fb49c7-4b94-497a-93be-e1041bf7970d",
   "metadata": {},
   "outputs": [],
   "source": []
  },
  {
   "cell_type": "code",
   "execution_count": 12,
   "id": "28c7f882-f2a0-482a-928f-4a4f5adfaa4f",
   "metadata": {},
   "outputs": [],
   "source": [
    "pc = Pinecone(api_key=os.environ['PINECONE_API_KEY'])"
   ]
  },
  {
   "cell_type": "markdown",
   "id": "1537ce5a-58c9-49fd-8021-98247fcf9a2c",
   "metadata": {},
   "source": [
    "!pip install langchain_pinecone"
   ]
  },
  {
   "cell_type": "markdown",
   "id": "00c74e26-5277-469d-8846-9ff9b4ffae69",
   "metadata": {},
   "source": [
    "%pip install --upgrade --quiet  langchain-pinecone langchain"
   ]
  },
  {
   "cell_type": "code",
   "execution_count": 15,
   "id": "235f908a-b24a-43fe-a2b0-722f3b20d862",
   "metadata": {},
   "outputs": [],
   "source": [
    "from langchain_pinecone import PineconeVectorStore"
   ]
  },
  {
   "cell_type": "code",
   "execution_count": 24,
   "id": "4ab75622-31ed-4ceb-97c0-1487763378fd",
   "metadata": {},
   "outputs": [],
   "source": [
    "docsearch = PineconeVectorStore.from_documents(text_splitter.create_documents(texts), embeddings, index_name=\"gpu-data\")"
   ]
  },
  {
   "cell_type": "code",
   "execution_count": 25,
   "id": "5753ab24-848e-4ca3-b2a6-7d5657fa8330",
   "metadata": {},
   "outputs": [
    {
     "name": "stdout",
     "output_type": "stream",
     "text": [
      "rchitecture   \n",
      "Appendix B  - Ada AD103 GPU  Full Specifications  \n",
      "The Ada GPU architecture consists of a family of GPUs that are targeted for multiple segments of \n",
      "the graphics market. AD102 is NVIDIA’s flagship GPU offering based on the Ada architecture, \n",
      "delivering revolutionary performance for the ultra -enthusiast graphics segment.  \n",
      "The AD103 GPU is NVIDIA’s product for the hi\n"
     ]
    }
   ],
   "source": [
    "query = \"What is ada gpu?\"\n",
    "docs = docsearch.similarity_search(query)\n",
    "print(docs[0].page_content)"
   ]
  },
  {
   "cell_type": "code",
   "execution_count": 26,
   "id": "d1fc30d4-86ee-44ac-80e6-75167a6e98a4",
   "metadata": {},
   "outputs": [],
   "source": [
    "from langchain.chains.question_answering import load_qa_chain\n",
    "from langchain_community.llms import Ollama"
   ]
  },
  {
   "cell_type": "code",
   "execution_count": 27,
   "id": "69dbe2b2-09f3-42e0-8f66-8c8865cc8e0d",
   "metadata": {},
   "outputs": [],
   "source": [
    "chain = load_qa_chain(Ollama(model=\"llama2\"), chain_type = \"stuff\")"
   ]
  },
  {
   "cell_type": "code",
   "execution_count": 28,
   "id": "da552fe9-d8c7-43f7-8aae-71dead6dca12",
   "metadata": {},
   "outputs": [
    {
     "data": {
      "text/plain": [
       "{'input_documents': [Document(page_content='rchitecture   \\nAppendix B  - Ada AD103 GPU  Full Specifications  \\nThe Ada GPU architecture consists of a family of GPUs that are targeted for multiple segments of \\nthe graphics market. AD102 is NVIDIA’s flagship GPU offering based on the Ada architecture, \\ndelivering revolutionary performance for the ultra -enthusiast graphics segment.  \\nThe AD103 GPU is NVIDIA’s product for the hi'),\n",
       "  Document(page_content='he Ada architecture provides a higher level of baseline \\nGPU performance, and marks the tipping point where ray tracing and neural graphics become \\nmainstream.    \\n \\nAD102 is  the flagship of the Ada GPU lineup and launches first with the GeForce RTX 4090 \\ngraphics card. NVIDIA will also soon be providing follow -on Ada GPUs including AD103 and AD104, \\nutiliz ing the same basic arc'),\n",
       "  Document(page_content='ship of the Ada GPU lineup and launches first with the GeForce RTX 4090 \\ngraphics card. NVIDIA will also soon be providing follow -on Ada GPUs including AD103 and AD104, \\nutiliz ing the same basic architecture as AD102 .  \\n \\nThis section will be focused on the AD102 GPU. For further information on AD103 and AD104, \\nplease consult Appendix B, The Ada AD103 GPU  and Appendix C, The A'),\n",
       "  Document(page_content='es, and up to 4x faster in ray -traced games \\nthan the prior NVIDIA Ampere GPU architecture.  \\nAda provides the largest generational performance upgrade in the history of NVIDIA. This is made \\npossible by three key innovations:  \\n● Revolutionary New Architecture : NVID IA Ada architecture GPUs deliver outstanding \\nperformance for graphics, AI, and compute workloads with exceptional')],\n",
       " 'question': 'What is ada gpu?',\n",
       " 'output_text': \"Based on the provided context, Ada GPU appears to be a family of graphics processing units (GPUs) developed by NVIDIA. The context highlights that the Ada architecture provides higher baseline GPU performance and marks the tipping point where ray tracing and neural graphics become mainstream. It also mentions that the AD102 GPU is the flagship of the Ada GPU lineup, followed by AD103 and AD104. Additionally, the context notes that Ada provides the largest generational performance upgrade in NVIDIA's history, achieved through three key innovations: revolutionary new architecture, AI-enhanced design, and a novel computing core.\\n\\nTherefore, based on the provided context, Ada GPU appears to be a high-performance GPU lineup designed for various segments of the graphics market, offering improved performance in graphics, AI, and compute workloads.\"}"
      ]
     },
     "execution_count": 28,
     "metadata": {},
     "output_type": "execute_result"
    }
   ],
   "source": [
    "chain.invoke({\"input_documents\": docs, \"question\":query})"
   ]
  },
  {
   "cell_type": "code",
   "execution_count": null,
   "id": "7fdf226c-7b3c-4a82-86e7-ea1341efa57a",
   "metadata": {},
   "outputs": [],
   "source": []
  },
  {
   "cell_type": "code",
   "execution_count": 29,
   "id": "e6423451-1aaa-4812-8691-39816854d271",
   "metadata": {},
   "outputs": [],
   "source": [
    "chain2 = load_qa_chain(Ollama(model=\"mistral\"), chain_type = \"stuff\")"
   ]
  },
  {
   "cell_type": "code",
   "execution_count": 30,
   "id": "ebd8f88d-3bdd-40ba-a0a7-1684dce3e25c",
   "metadata": {},
   "outputs": [
    {
     "data": {
      "text/plain": [
       "{'input_documents': [Document(page_content='rchitecture   \\nAppendix B  - Ada AD103 GPU  Full Specifications  \\nThe Ada GPU architecture consists of a family of GPUs that are targeted for multiple segments of \\nthe graphics market. AD102 is NVIDIA’s flagship GPU offering based on the Ada architecture, \\ndelivering revolutionary performance for the ultra -enthusiast graphics segment.  \\nThe AD103 GPU is NVIDIA’s product for the hi'),\n",
       "  Document(page_content='he Ada architecture provides a higher level of baseline \\nGPU performance, and marks the tipping point where ray tracing and neural graphics become \\nmainstream.    \\n \\nAD102 is  the flagship of the Ada GPU lineup and launches first with the GeForce RTX 4090 \\ngraphics card. NVIDIA will also soon be providing follow -on Ada GPUs including AD103 and AD104, \\nutiliz ing the same basic arc'),\n",
       "  Document(page_content='ship of the Ada GPU lineup and launches first with the GeForce RTX 4090 \\ngraphics card. NVIDIA will also soon be providing follow -on Ada GPUs including AD103 and AD104, \\nutiliz ing the same basic architecture as AD102 .  \\n \\nThis section will be focused on the AD102 GPU. For further information on AD103 and AD104, \\nplease consult Appendix B, The Ada AD103 GPU  and Appendix C, The A'),\n",
       "  Document(page_content='es, and up to 4x faster in ray -traced games \\nthan the prior NVIDIA Ampere GPU architecture.  \\nAda provides the largest generational performance upgrade in the history of NVIDIA. This is made \\npossible by three key innovations:  \\n● Revolutionary New Architecture : NVID IA Ada architecture GPUs deliver outstanding \\nperformance for graphics, AI, and compute workloads with exceptional')],\n",
       " 'question': 'What is ada gpu?',\n",
       " 'output_text': 'Based on the provided context, it appears that \"Ada GPU\" refers to a family of GPUs (Graphics Processing Units) developed by NVIDIA. The Ada architecture provides higher baseline performance for GPU tasks, including graphics, AI, and compute workloads. The AD102 and AD103 GPUs are part of the Ada lineup and offer improved performance compared to prior NVIDIA architectures.\\n\\nIn summary, Ada GPU is a family of GPUs designed by NVIDIA that aim to provide revolutionary performance for graphics, AI, and compute workloads through innovative architecture.'}"
      ]
     },
     "execution_count": 30,
     "metadata": {},
     "output_type": "execute_result"
    }
   ],
   "source": [
    "chain.invoke({\"input_documents\": docs, \"question\":query})"
   ]
  },
  {
   "cell_type": "code",
   "execution_count": null,
   "id": "0b687400-71c7-477a-97c3-0bedd741d8bf",
   "metadata": {},
   "outputs": [],
   "source": []
  }
 ],
 "metadata": {
  "kernelspec": {
   "display_name": "Python 3 (ipykernel)",
   "language": "python",
   "name": "python3"
  },
  "language_info": {
   "codemirror_mode": {
    "name": "ipython",
    "version": 3
   },
   "file_extension": ".py",
   "mimetype": "text/x-python",
   "name": "python",
   "nbconvert_exporter": "python",
   "pygments_lexer": "ipython3",
   "version": "3.10.16"
  }
 },
 "nbformat": 4,
 "nbformat_minor": 5
}
